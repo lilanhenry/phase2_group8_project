{
 "cells": [
  {
   "cell_type": "markdown",
   "metadata": {},
   "source": [
    "# Phase 2 Project\n",
    "\n",
    "    Student name: Phase 2 Group 8 (Damaris Wanjiru / Henry Kemboi / Elizabeth Atieno / Gerald Muhia / Caleb Kipkech / Collins Kwata)\n",
    "    Student pace: Full Time Remote\n",
    "    Scheduled project review date/time:\n",
    "    Instructor name: Asha Deen\n",
    "    "
   ]
  },
  {
   "cell_type": "markdown",
   "metadata": {},
   "source": [
    "# Project Overview\n",
    "\n",
    "Our company is launching a new film studio to tap into the growing demand for original video content. With no prior experience in the industry, we have been tasked with analyzing current box office trends to identify the most successful film types. The goal is to deliver actionable insights that will guide the studio's direction and ensure a strong start in the competitive movie market."
   ]
  },
  {
   "cell_type": "markdown",
   "metadata": {},
   "source": [
    "# Business Understanding\n",
    "* **Business Context**: Our company aims to enter the original video content market by launching a new film studio, despite having no experience in movie production. To ensure success, we are tasked with analyzing current box office trends to identify top-performing film types. Our insights will guide the studio's leadership in making informed decisions about which genres to focus on.\n",
    "*  **Problem Statement**: We need to identify top-performing film type, understand the current box office trends and evaluate the impact of different factors on movie perfomance."
   ]
  },
  {
   "cell_type": "markdown",
   "metadata": {},
   "source": [
    "# Objectives\n",
    "1. Analyze the correlation between runtime and genre tand whether either of the two has an impact on average ratings.\n",
    "2. Evaluate the impact of release date on genre ratings to identify trends and pinpoint which genres consistently receive high ratings over time.\n",
    "3. Analyze audience preferences across different MPAA ratings to understand how each rating category appeals to various demographics.4Identify the genre that \n",
    "4. Assess directors' performance to determine which has achieved the highest return on investment within specific genres.\n",
    "5. Identify directors known for producing critically acclaimed works within top-rated genres.\n",
    "6. Determine which movie has achieved the highest return on investment, considering both production costs and box office earnings.\n"
   ]
  },
  {
   "cell_type": "markdown",
   "metadata": {},
   "source": [
    "### Importing the Relevant Libraries\n",
    "\n",
    "To begin, we will import all the relevant libraries necessary for our analysis. These are listed below:\n",
    "\n",
    "- `Pandas` - Enables us to manipulate imported datasets saved as dataframes.\n",
    "- `Numpy`  - Enables us to compute mathematical functions as well as perform array operations.\n",
    "- `Seaborn` - Enables us to visualise the data.\n",
    "- `Matplotlib` - Additional library to assist in visualising the data.\n",
    "- `Scipy.stats` - Assists in performing statistical calculations.\n",
    "- `Sqlite3` - Allows us to perform SQL operations and access database data in this Jupyter notebook."
   ]
  },
  {
   "cell_type": "code",
   "execution_count": 1,
   "metadata": {},
   "outputs": [],
   "source": [
    "# importing relevant libraries\n",
    "import pandas as pd \n",
    "import numpy as np\n",
    "import seaborn as sns\n",
    "import matplotlib.pyplot as plt\n",
    "from scipy import stats\n",
    "import sqlite3\n",
    "import statsmodels.api as sm\n",
    "\n",
    "\n",
    "%matplotlib inline"
   ]
  },
  {
   "cell_type": "markdown",
   "metadata": {},
   "source": [
    "### Loading  and Review of Datasets  Individually\n",
    "\n",
    "Once we have imported the libraries, next step is to load and review the datasets individually. This will help determine the datasets relevant to our analysis. \n"
   ]
  },
  {
   "cell_type": "markdown",
   "metadata": {},
   "source": [
    "### Rotten Tomatoes Movie Review Dataset\n"
   ]
  },
  {
   "cell_type": "code",
   "execution_count": 2,
   "metadata": {},
   "outputs": [
    {
     "data": {
      "text/html": [
       "<div>\n",
       "<style scoped>\n",
       "    .dataframe tbody tr th:only-of-type {\n",
       "        vertical-align: middle;\n",
       "    }\n",
       "\n",
       "    .dataframe tbody tr th {\n",
       "        vertical-align: top;\n",
       "    }\n",
       "\n",
       "    .dataframe thead th {\n",
       "        text-align: right;\n",
       "    }\n",
       "</style>\n",
       "<table border=\"1\" class=\"dataframe\">\n",
       "  <thead>\n",
       "    <tr style=\"text-align: right;\">\n",
       "      <th></th>\n",
       "      <th>id</th>\n",
       "      <th>review</th>\n",
       "      <th>rating</th>\n",
       "      <th>fresh</th>\n",
       "      <th>critic</th>\n",
       "      <th>top_critic</th>\n",
       "      <th>publisher</th>\n",
       "      <th>date</th>\n",
       "    </tr>\n",
       "  </thead>\n",
       "  <tbody>\n",
       "    <tr>\n",
       "      <th>0</th>\n",
       "      <td>3</td>\n",
       "      <td>A distinctly gallows take on contemporary fina...</td>\n",
       "      <td>3/5</td>\n",
       "      <td>fresh</td>\n",
       "      <td>PJ Nabarro</td>\n",
       "      <td>0</td>\n",
       "      <td>Patrick Nabarro</td>\n",
       "      <td>November 10, 2018</td>\n",
       "    </tr>\n",
       "    <tr>\n",
       "      <th>1</th>\n",
       "      <td>3</td>\n",
       "      <td>It's an allegory in search of a meaning that n...</td>\n",
       "      <td>NaN</td>\n",
       "      <td>rotten</td>\n",
       "      <td>Annalee Newitz</td>\n",
       "      <td>0</td>\n",
       "      <td>io9.com</td>\n",
       "      <td>May 23, 2018</td>\n",
       "    </tr>\n",
       "    <tr>\n",
       "      <th>2</th>\n",
       "      <td>3</td>\n",
       "      <td>... life lived in a bubble in financial dealin...</td>\n",
       "      <td>NaN</td>\n",
       "      <td>fresh</td>\n",
       "      <td>Sean Axmaker</td>\n",
       "      <td>0</td>\n",
       "      <td>Stream on Demand</td>\n",
       "      <td>January 4, 2018</td>\n",
       "    </tr>\n",
       "    <tr>\n",
       "      <th>3</th>\n",
       "      <td>3</td>\n",
       "      <td>Continuing along a line introduced in last yea...</td>\n",
       "      <td>NaN</td>\n",
       "      <td>fresh</td>\n",
       "      <td>Daniel Kasman</td>\n",
       "      <td>0</td>\n",
       "      <td>MUBI</td>\n",
       "      <td>November 16, 2017</td>\n",
       "    </tr>\n",
       "    <tr>\n",
       "      <th>4</th>\n",
       "      <td>3</td>\n",
       "      <td>... a perverse twist on neorealism...</td>\n",
       "      <td>NaN</td>\n",
       "      <td>fresh</td>\n",
       "      <td>NaN</td>\n",
       "      <td>0</td>\n",
       "      <td>Cinema Scope</td>\n",
       "      <td>October 12, 2017</td>\n",
       "    </tr>\n",
       "  </tbody>\n",
       "</table>\n",
       "</div>"
      ],
      "text/plain": [
       "   id                                             review rating   fresh  \\\n",
       "0   3  A distinctly gallows take on contemporary fina...    3/5   fresh   \n",
       "1   3  It's an allegory in search of a meaning that n...    NaN  rotten   \n",
       "2   3  ... life lived in a bubble in financial dealin...    NaN   fresh   \n",
       "3   3  Continuing along a line introduced in last yea...    NaN   fresh   \n",
       "4   3             ... a perverse twist on neorealism...     NaN   fresh   \n",
       "\n",
       "           critic  top_critic         publisher               date  \n",
       "0      PJ Nabarro           0   Patrick Nabarro  November 10, 2018  \n",
       "1  Annalee Newitz           0           io9.com       May 23, 2018  \n",
       "2    Sean Axmaker           0  Stream on Demand    January 4, 2018  \n",
       "3   Daniel Kasman           0              MUBI  November 16, 2017  \n",
       "4             NaN           0      Cinema Scope   October 12, 2017  "
      ]
     },
     "execution_count": 2,
     "metadata": {},
     "output_type": "execute_result"
    }
   ],
   "source": [
    "# Loading the Review tsv dataset display first and last 5 rows\n",
    "df_review= pd.read_csv(\"zippedData/rt.reviews.tsv.gz\", delimiter='\\t', encoding='ISO-8859-1')\n",
    "df_review.head()"
   ]
  },
  {
   "cell_type": "markdown",
   "metadata": {},
   "source": [
    "From the dataframe above `df_review`, we seem to be missing crucial data relating to movies such as movie title, genre etc. It's quite difficult to make out the movie being critiqued based on the `review` and `id` column. Inaddition, for the columns that do have data, there seems to be incomplete data such as name of the critics and movie rating. Due to the inability to deduce the movie being critiqued, we will not be proceeding forward with this **Rotten Tomatoes Movie Review** dataset."
   ]
  },
  {
   "cell_type": "markdown",
   "metadata": {},
   "source": [
    "### Movie DB Dataset"
   ]
  },
  {
   "cell_type": "code",
   "execution_count": 3,
   "metadata": {},
   "outputs": [
    {
     "data": {
      "text/html": [
       "<div>\n",
       "<style scoped>\n",
       "    .dataframe tbody tr th:only-of-type {\n",
       "        vertical-align: middle;\n",
       "    }\n",
       "\n",
       "    .dataframe tbody tr th {\n",
       "        vertical-align: top;\n",
       "    }\n",
       "\n",
       "    .dataframe thead th {\n",
       "        text-align: right;\n",
       "    }\n",
       "</style>\n",
       "<table border=\"1\" class=\"dataframe\">\n",
       "  <thead>\n",
       "    <tr style=\"text-align: right;\">\n",
       "      <th></th>\n",
       "      <th>Unnamed: 0</th>\n",
       "      <th>genre_ids</th>\n",
       "      <th>id</th>\n",
       "      <th>original_language</th>\n",
       "      <th>original_title</th>\n",
       "      <th>popularity</th>\n",
       "      <th>release_date</th>\n",
       "      <th>title</th>\n",
       "      <th>vote_average</th>\n",
       "      <th>vote_count</th>\n",
       "    </tr>\n",
       "  </thead>\n",
       "  <tbody>\n",
       "    <tr>\n",
       "      <th>0</th>\n",
       "      <td>0</td>\n",
       "      <td>[12, 14, 10751]</td>\n",
       "      <td>12444</td>\n",
       "      <td>en</td>\n",
       "      <td>Harry Potter and the Deathly Hallows: Part 1</td>\n",
       "      <td>33.533</td>\n",
       "      <td>2010-11-19</td>\n",
       "      <td>Harry Potter and the Deathly Hallows: Part 1</td>\n",
       "      <td>7.7</td>\n",
       "      <td>10788</td>\n",
       "    </tr>\n",
       "    <tr>\n",
       "      <th>1</th>\n",
       "      <td>1</td>\n",
       "      <td>[14, 12, 16, 10751]</td>\n",
       "      <td>10191</td>\n",
       "      <td>en</td>\n",
       "      <td>How to Train Your Dragon</td>\n",
       "      <td>28.734</td>\n",
       "      <td>2010-03-26</td>\n",
       "      <td>How to Train Your Dragon</td>\n",
       "      <td>7.7</td>\n",
       "      <td>7610</td>\n",
       "    </tr>\n",
       "    <tr>\n",
       "      <th>2</th>\n",
       "      <td>2</td>\n",
       "      <td>[12, 28, 878]</td>\n",
       "      <td>10138</td>\n",
       "      <td>en</td>\n",
       "      <td>Iron Man 2</td>\n",
       "      <td>28.515</td>\n",
       "      <td>2010-05-07</td>\n",
       "      <td>Iron Man 2</td>\n",
       "      <td>6.8</td>\n",
       "      <td>12368</td>\n",
       "    </tr>\n",
       "    <tr>\n",
       "      <th>3</th>\n",
       "      <td>3</td>\n",
       "      <td>[16, 35, 10751]</td>\n",
       "      <td>862</td>\n",
       "      <td>en</td>\n",
       "      <td>Toy Story</td>\n",
       "      <td>28.005</td>\n",
       "      <td>1995-11-22</td>\n",
       "      <td>Toy Story</td>\n",
       "      <td>7.9</td>\n",
       "      <td>10174</td>\n",
       "    </tr>\n",
       "    <tr>\n",
       "      <th>4</th>\n",
       "      <td>4</td>\n",
       "      <td>[28, 878, 12]</td>\n",
       "      <td>27205</td>\n",
       "      <td>en</td>\n",
       "      <td>Inception</td>\n",
       "      <td>27.920</td>\n",
       "      <td>2010-07-16</td>\n",
       "      <td>Inception</td>\n",
       "      <td>8.3</td>\n",
       "      <td>22186</td>\n",
       "    </tr>\n",
       "  </tbody>\n",
       "</table>\n",
       "</div>"
      ],
      "text/plain": [
       "   Unnamed: 0            genre_ids     id original_language  \\\n",
       "0           0      [12, 14, 10751]  12444                en   \n",
       "1           1  [14, 12, 16, 10751]  10191                en   \n",
       "2           2        [12, 28, 878]  10138                en   \n",
       "3           3      [16, 35, 10751]    862                en   \n",
       "4           4        [28, 878, 12]  27205                en   \n",
       "\n",
       "                                 original_title  popularity release_date  \\\n",
       "0  Harry Potter and the Deathly Hallows: Part 1      33.533   2010-11-19   \n",
       "1                      How to Train Your Dragon      28.734   2010-03-26   \n",
       "2                                    Iron Man 2      28.515   2010-05-07   \n",
       "3                                     Toy Story      28.005   1995-11-22   \n",
       "4                                     Inception      27.920   2010-07-16   \n",
       "\n",
       "                                          title  vote_average  vote_count  \n",
       "0  Harry Potter and the Deathly Hallows: Part 1           7.7       10788  \n",
       "1                      How to Train Your Dragon           7.7        7610  \n",
       "2                                    Iron Man 2           6.8       12368  \n",
       "3                                     Toy Story           7.9       10174  \n",
       "4                                     Inception           8.3       22186  "
      ]
     },
     "execution_count": 3,
     "metadata": {},
     "output_type": "execute_result"
    }
   ],
   "source": [
    "# Load the Movie Db Dataset and Display the First and Last Five Rows\n",
    "moviesdb_df= pd.read_csv(\"zippedData/tmdb.movies.csv.gz\", compression='gzip')\n",
    "moviesdb_df.head()"
   ]
  },
  {
   "cell_type": "markdown",
   "metadata": {},
   "source": [
    "The `moviesdb` dataframe does provides us with a lot more information than the `df_review` dataframe. We are able to get the movie titles, popularity,vote count and cote average which may be quite beneficial in our analysis. However, the `genre` column is a list of numbers which requre additional mapping that we do not have access to. Due to this, we will not be utilizing this **Movie DB** dataset for our analysis."
   ]
  },
  {
   "cell_type": "markdown",
   "metadata": {},
   "source": [
    "### Movie_Info Dataset"
   ]
  },
  {
   "cell_type": "code",
   "execution_count": 4,
   "metadata": {},
   "outputs": [
    {
     "data": {
      "text/html": [
       "<div>\n",
       "<style scoped>\n",
       "    .dataframe tbody tr th:only-of-type {\n",
       "        vertical-align: middle;\n",
       "    }\n",
       "\n",
       "    .dataframe tbody tr th {\n",
       "        vertical-align: top;\n",
       "    }\n",
       "\n",
       "    .dataframe thead th {\n",
       "        text-align: right;\n",
       "    }\n",
       "</style>\n",
       "<table border=\"1\" class=\"dataframe\">\n",
       "  <thead>\n",
       "    <tr style=\"text-align: right;\">\n",
       "      <th></th>\n",
       "      <th>id</th>\n",
       "      <th>synopsis</th>\n",
       "      <th>rating</th>\n",
       "      <th>genre</th>\n",
       "      <th>director</th>\n",
       "      <th>writer</th>\n",
       "      <th>theater_date</th>\n",
       "      <th>dvd_date</th>\n",
       "      <th>currency</th>\n",
       "      <th>box_office</th>\n",
       "      <th>runtime</th>\n",
       "      <th>studio</th>\n",
       "    </tr>\n",
       "  </thead>\n",
       "  <tbody>\n",
       "    <tr>\n",
       "      <th>0</th>\n",
       "      <td>1</td>\n",
       "      <td>This gritty, fast-paced, and innovative police...</td>\n",
       "      <td>R</td>\n",
       "      <td>Action and Adventure|Classics|Drama</td>\n",
       "      <td>William Friedkin</td>\n",
       "      <td>Ernest Tidyman</td>\n",
       "      <td>Oct 9, 1971</td>\n",
       "      <td>Sep 25, 2001</td>\n",
       "      <td>NaN</td>\n",
       "      <td>NaN</td>\n",
       "      <td>104 minutes</td>\n",
       "      <td>NaN</td>\n",
       "    </tr>\n",
       "    <tr>\n",
       "      <th>1</th>\n",
       "      <td>3</td>\n",
       "      <td>New York City, not-too-distant-future: Eric Pa...</td>\n",
       "      <td>R</td>\n",
       "      <td>Drama|Science Fiction and Fantasy</td>\n",
       "      <td>David Cronenberg</td>\n",
       "      <td>David Cronenberg|Don DeLillo</td>\n",
       "      <td>Aug 17, 2012</td>\n",
       "      <td>Jan 1, 2013</td>\n",
       "      <td>$</td>\n",
       "      <td>600,000</td>\n",
       "      <td>108 minutes</td>\n",
       "      <td>Entertainment One</td>\n",
       "    </tr>\n",
       "    <tr>\n",
       "      <th>2</th>\n",
       "      <td>5</td>\n",
       "      <td>Illeana Douglas delivers a superb performance ...</td>\n",
       "      <td>R</td>\n",
       "      <td>Drama|Musical and Performing Arts</td>\n",
       "      <td>Allison Anders</td>\n",
       "      <td>Allison Anders</td>\n",
       "      <td>Sep 13, 1996</td>\n",
       "      <td>Apr 18, 2000</td>\n",
       "      <td>NaN</td>\n",
       "      <td>NaN</td>\n",
       "      <td>116 minutes</td>\n",
       "      <td>NaN</td>\n",
       "    </tr>\n",
       "    <tr>\n",
       "      <th>3</th>\n",
       "      <td>6</td>\n",
       "      <td>Michael Douglas runs afoul of a treacherous su...</td>\n",
       "      <td>R</td>\n",
       "      <td>Drama|Mystery and Suspense</td>\n",
       "      <td>Barry Levinson</td>\n",
       "      <td>Paul Attanasio|Michael Crichton</td>\n",
       "      <td>Dec 9, 1994</td>\n",
       "      <td>Aug 27, 1997</td>\n",
       "      <td>NaN</td>\n",
       "      <td>NaN</td>\n",
       "      <td>128 minutes</td>\n",
       "      <td>NaN</td>\n",
       "    </tr>\n",
       "    <tr>\n",
       "      <th>4</th>\n",
       "      <td>7</td>\n",
       "      <td>NaN</td>\n",
       "      <td>NR</td>\n",
       "      <td>Drama|Romance</td>\n",
       "      <td>Rodney Bennett</td>\n",
       "      <td>Giles Cooper</td>\n",
       "      <td>NaN</td>\n",
       "      <td>NaN</td>\n",
       "      <td>NaN</td>\n",
       "      <td>NaN</td>\n",
       "      <td>200 minutes</td>\n",
       "      <td>NaN</td>\n",
       "    </tr>\n",
       "  </tbody>\n",
       "</table>\n",
       "</div>"
      ],
      "text/plain": [
       "   id                                           synopsis rating  \\\n",
       "0   1  This gritty, fast-paced, and innovative police...      R   \n",
       "1   3  New York City, not-too-distant-future: Eric Pa...      R   \n",
       "2   5  Illeana Douglas delivers a superb performance ...      R   \n",
       "3   6  Michael Douglas runs afoul of a treacherous su...      R   \n",
       "4   7                                                NaN     NR   \n",
       "\n",
       "                                 genre          director  \\\n",
       "0  Action and Adventure|Classics|Drama  William Friedkin   \n",
       "1    Drama|Science Fiction and Fantasy  David Cronenberg   \n",
       "2    Drama|Musical and Performing Arts    Allison Anders   \n",
       "3           Drama|Mystery and Suspense    Barry Levinson   \n",
       "4                        Drama|Romance    Rodney Bennett   \n",
       "\n",
       "                            writer  theater_date      dvd_date currency  \\\n",
       "0                   Ernest Tidyman   Oct 9, 1971  Sep 25, 2001      NaN   \n",
       "1     David Cronenberg|Don DeLillo  Aug 17, 2012   Jan 1, 2013        $   \n",
       "2                   Allison Anders  Sep 13, 1996  Apr 18, 2000      NaN   \n",
       "3  Paul Attanasio|Michael Crichton   Dec 9, 1994  Aug 27, 1997      NaN   \n",
       "4                     Giles Cooper           NaN           NaN      NaN   \n",
       "\n",
       "  box_office      runtime             studio  \n",
       "0        NaN  104 minutes                NaN  \n",
       "1    600,000  108 minutes  Entertainment One  \n",
       "2        NaN  116 minutes                NaN  \n",
       "3        NaN  128 minutes                NaN  \n",
       "4        NaN  200 minutes                NaN  "
      ]
     },
     "execution_count": 4,
     "metadata": {},
     "output_type": "execute_result"
    }
   ],
   "source": [
    "# Loading movie_info tsv and Display the First and Last Five Rows\n",
    "movie_info_df= pd.read_csv(\"zippedData/rt.movie_info.tsv.gz\", sep='\\t', compression='gzip')\n",
    "movie_info_df.head()"
   ]
  },
  {
   "cell_type": "markdown",
   "metadata": {},
   "source": [
    "The `movie_info_df` dataframe possesses similar characteristics to the `df_review` dataframe. It does not give us information relating to the movie title and we are not able to link the id provided here to any other dataset. Also, the data has a lot of null values and as such we will not be utilizing the **Movie Info** dataset going forward. "
   ]
  },
  {
   "cell_type": "markdown",
   "metadata": {},
   "source": [
    "### Movie Budgets Dataset"
   ]
  },
  {
   "cell_type": "code",
   "execution_count": 5,
   "metadata": {
    "scrolled": true
   },
   "outputs": [
    {
     "data": {
      "text/html": [
       "<div>\n",
       "<style scoped>\n",
       "    .dataframe tbody tr th:only-of-type {\n",
       "        vertical-align: middle;\n",
       "    }\n",
       "\n",
       "    .dataframe tbody tr th {\n",
       "        vertical-align: top;\n",
       "    }\n",
       "\n",
       "    .dataframe thead th {\n",
       "        text-align: right;\n",
       "    }\n",
       "</style>\n",
       "<table border=\"1\" class=\"dataframe\">\n",
       "  <thead>\n",
       "    <tr style=\"text-align: right;\">\n",
       "      <th></th>\n",
       "      <th>id</th>\n",
       "      <th>release_date</th>\n",
       "      <th>movie</th>\n",
       "      <th>production_budget</th>\n",
       "      <th>domestic_gross</th>\n",
       "      <th>worldwide_gross</th>\n",
       "    </tr>\n",
       "  </thead>\n",
       "  <tbody>\n",
       "    <tr>\n",
       "      <th>0</th>\n",
       "      <td>1</td>\n",
       "      <td>Dec 18, 2009</td>\n",
       "      <td>Avatar</td>\n",
       "      <td>$425,000,000</td>\n",
       "      <td>$760,507,625</td>\n",
       "      <td>$2,776,345,279</td>\n",
       "    </tr>\n",
       "    <tr>\n",
       "      <th>1</th>\n",
       "      <td>2</td>\n",
       "      <td>May 20, 2011</td>\n",
       "      <td>Pirates of the Caribbean: On Stranger Tides</td>\n",
       "      <td>$410,600,000</td>\n",
       "      <td>$241,063,875</td>\n",
       "      <td>$1,045,663,875</td>\n",
       "    </tr>\n",
       "    <tr>\n",
       "      <th>2</th>\n",
       "      <td>3</td>\n",
       "      <td>Jun 7, 2019</td>\n",
       "      <td>Dark Phoenix</td>\n",
       "      <td>$350,000,000</td>\n",
       "      <td>$42,762,350</td>\n",
       "      <td>$149,762,350</td>\n",
       "    </tr>\n",
       "    <tr>\n",
       "      <th>3</th>\n",
       "      <td>4</td>\n",
       "      <td>May 1, 2015</td>\n",
       "      <td>Avengers: Age of Ultron</td>\n",
       "      <td>$330,600,000</td>\n",
       "      <td>$459,005,868</td>\n",
       "      <td>$1,403,013,963</td>\n",
       "    </tr>\n",
       "    <tr>\n",
       "      <th>4</th>\n",
       "      <td>5</td>\n",
       "      <td>Dec 15, 2017</td>\n",
       "      <td>Star Wars Ep. VIII: The Last Jedi</td>\n",
       "      <td>$317,000,000</td>\n",
       "      <td>$620,181,382</td>\n",
       "      <td>$1,316,721,747</td>\n",
       "    </tr>\n",
       "  </tbody>\n",
       "</table>\n",
       "</div>"
      ],
      "text/plain": [
       "   id  release_date                                        movie  \\\n",
       "0   1  Dec 18, 2009                                       Avatar   \n",
       "1   2  May 20, 2011  Pirates of the Caribbean: On Stranger Tides   \n",
       "2   3   Jun 7, 2019                                 Dark Phoenix   \n",
       "3   4   May 1, 2015                      Avengers: Age of Ultron   \n",
       "4   5  Dec 15, 2017            Star Wars Ep. VIII: The Last Jedi   \n",
       "\n",
       "  production_budget domestic_gross worldwide_gross  \n",
       "0      $425,000,000   $760,507,625  $2,776,345,279  \n",
       "1      $410,600,000   $241,063,875  $1,045,663,875  \n",
       "2      $350,000,000    $42,762,350    $149,762,350  \n",
       "3      $330,600,000   $459,005,868  $1,403,013,963  \n",
       "4      $317,000,000   $620,181,382  $1,316,721,747  "
      ]
     },
     "execution_count": 5,
     "metadata": {},
     "output_type": "execute_result"
    }
   ],
   "source": [
    "# Loading movie budget tsv and Display the First and Last Five Rows\n",
    "df_budget= pd.read_csv(\"zippedData/tn.movie_budgets.csv.gz\")\n",
    "df_budget.head()"
   ]
  },
  {
   "cell_type": "markdown",
   "metadata": {},
   "source": [
    "This `df_budget` dataframe provides a summary overview of the movie titles, release date as well as their corresponding budget and gross sales amounts. Thus, the **Movie Budgets** dataset will be quite beneficial to our analysis in the calculation of the return on investment and as such, we will proceed forward with it."
   ]
  },
  {
   "cell_type": "markdown",
   "metadata": {},
   "source": [
    "### Bom Movie Gross Dataset From Box office"
   ]
  },
  {
   "cell_type": "code",
   "execution_count": 6,
   "metadata": {},
   "outputs": [
    {
     "data": {
      "text/html": [
       "<div>\n",
       "<style scoped>\n",
       "    .dataframe tbody tr th:only-of-type {\n",
       "        vertical-align: middle;\n",
       "    }\n",
       "\n",
       "    .dataframe tbody tr th {\n",
       "        vertical-align: top;\n",
       "    }\n",
       "\n",
       "    .dataframe thead th {\n",
       "        text-align: right;\n",
       "    }\n",
       "</style>\n",
       "<table border=\"1\" class=\"dataframe\">\n",
       "  <thead>\n",
       "    <tr style=\"text-align: right;\">\n",
       "      <th></th>\n",
       "      <th>title</th>\n",
       "      <th>studio</th>\n",
       "      <th>domestic_gross</th>\n",
       "      <th>foreign_gross</th>\n",
       "      <th>year</th>\n",
       "    </tr>\n",
       "  </thead>\n",
       "  <tbody>\n",
       "    <tr>\n",
       "      <th>0</th>\n",
       "      <td>Toy Story 3</td>\n",
       "      <td>BV</td>\n",
       "      <td>415000000.0</td>\n",
       "      <td>652000000</td>\n",
       "      <td>2010</td>\n",
       "    </tr>\n",
       "    <tr>\n",
       "      <th>1</th>\n",
       "      <td>Alice in Wonderland (2010)</td>\n",
       "      <td>BV</td>\n",
       "      <td>334200000.0</td>\n",
       "      <td>691300000</td>\n",
       "      <td>2010</td>\n",
       "    </tr>\n",
       "    <tr>\n",
       "      <th>2</th>\n",
       "      <td>Harry Potter and the Deathly Hallows Part 1</td>\n",
       "      <td>WB</td>\n",
       "      <td>296000000.0</td>\n",
       "      <td>664300000</td>\n",
       "      <td>2010</td>\n",
       "    </tr>\n",
       "    <tr>\n",
       "      <th>3</th>\n",
       "      <td>Inception</td>\n",
       "      <td>WB</td>\n",
       "      <td>292600000.0</td>\n",
       "      <td>535700000</td>\n",
       "      <td>2010</td>\n",
       "    </tr>\n",
       "    <tr>\n",
       "      <th>4</th>\n",
       "      <td>Shrek Forever After</td>\n",
       "      <td>P/DW</td>\n",
       "      <td>238700000.0</td>\n",
       "      <td>513900000</td>\n",
       "      <td>2010</td>\n",
       "    </tr>\n",
       "  </tbody>\n",
       "</table>\n",
       "</div>"
      ],
      "text/plain": [
       "                                         title studio  domestic_gross  \\\n",
       "0                                  Toy Story 3     BV     415000000.0   \n",
       "1                   Alice in Wonderland (2010)     BV     334200000.0   \n",
       "2  Harry Potter and the Deathly Hallows Part 1     WB     296000000.0   \n",
       "3                                    Inception     WB     292600000.0   \n",
       "4                          Shrek Forever After   P/DW     238700000.0   \n",
       "\n",
       "  foreign_gross  year  \n",
       "0     652000000  2010  \n",
       "1     691300000  2010  \n",
       "2     664300000  2010  \n",
       "3     535700000  2010  \n",
       "4     513900000  2010  "
      ]
     },
     "execution_count": 6,
     "metadata": {},
     "output_type": "execute_result"
    }
   ],
   "source": [
    "bom_gross_df =pd.read_csv(\"zippedData/bom.movie_gross.csv.gz\")\n",
    "bom_gross_df.head()"
   ]
  },
  {
   "cell_type": "markdown",
   "metadata": {},
   "source": [
    "From the `bom_gross_df`, we get to have a view of the list of the box office movies along with the year of releases together with their corresponding gross sales amounts. As this analysis is focusing on performance of movies at the box office, this **BOM MOVIE** dataset will be our base dataset on which we will we center our analysis on."
   ]
  },
  {
   "cell_type": "markdown",
   "metadata": {},
   "source": [
    "### Loading SQL Database and creating a connection\n",
    "\n",
    "Having loaded and reviewed the datasets, we now need to check if we can get additional data from the im.db database that we can build our anlaysis on. As such we will follow the following steps:\n",
    "\n",
    "- Access the database through creating a connection using `sqlite3`\n",
    "- Obtain the table names and review each of the tables in the database to determine which tables to retain for our analysis"
   ]
  },
  {
   "cell_type": "code",
   "execution_count": 7,
   "metadata": {},
   "outputs": [],
   "source": [
    "#Access the Database\n",
    "\n",
    "conn = sqlite3.connect(\"zippedData/im.db\")"
   ]
  },
  {
   "cell_type": "code",
   "execution_count": 8,
   "metadata": {},
   "outputs": [
    {
     "data": {
      "text/html": [
       "<div>\n",
       "<style scoped>\n",
       "    .dataframe tbody tr th:only-of-type {\n",
       "        vertical-align: middle;\n",
       "    }\n",
       "\n",
       "    .dataframe tbody tr th {\n",
       "        vertical-align: top;\n",
       "    }\n",
       "\n",
       "    .dataframe thead th {\n",
       "        text-align: right;\n",
       "    }\n",
       "</style>\n",
       "<table border=\"1\" class=\"dataframe\">\n",
       "  <thead>\n",
       "    <tr style=\"text-align: right;\">\n",
       "      <th></th>\n",
       "      <th>Table Names</th>\n",
       "    </tr>\n",
       "  </thead>\n",
       "  <tbody>\n",
       "    <tr>\n",
       "      <th>0</th>\n",
       "      <td>movie_basics</td>\n",
       "    </tr>\n",
       "    <tr>\n",
       "      <th>1</th>\n",
       "      <td>directors</td>\n",
       "    </tr>\n",
       "    <tr>\n",
       "      <th>2</th>\n",
       "      <td>known_for</td>\n",
       "    </tr>\n",
       "    <tr>\n",
       "      <th>3</th>\n",
       "      <td>movie_akas</td>\n",
       "    </tr>\n",
       "    <tr>\n",
       "      <th>4</th>\n",
       "      <td>movie_ratings</td>\n",
       "    </tr>\n",
       "    <tr>\n",
       "      <th>5</th>\n",
       "      <td>persons</td>\n",
       "    </tr>\n",
       "    <tr>\n",
       "      <th>6</th>\n",
       "      <td>principals</td>\n",
       "    </tr>\n",
       "    <tr>\n",
       "      <th>7</th>\n",
       "      <td>writers</td>\n",
       "    </tr>\n",
       "  </tbody>\n",
       "</table>\n",
       "</div>"
      ],
      "text/plain": [
       "     Table Names\n",
       "0   movie_basics\n",
       "1      directors\n",
       "2      known_for\n",
       "3     movie_akas\n",
       "4  movie_ratings\n",
       "5        persons\n",
       "6     principals\n",
       "7        writers"
      ]
     },
     "execution_count": 8,
     "metadata": {},
     "output_type": "execute_result"
    }
   ],
   "source": [
    "#Access the table names\n",
    "\n",
    "table_name_query = \"\"\"SELECT name \n",
    "                      AS 'Table Names' \n",
    "                      FROM sqlite_master \n",
    "                      WHERE type='table';\"\"\"\n",
    "\n",
    "pd.read_sql(table_name_query, conn)"
   ]
  },
  {
   "cell_type": "markdown",
   "metadata": {},
   "source": [
    "On review of tables in the database, we were able to drill down to the following four tables in the database:\n",
    "\n",
    "- `directors` - Contains data on the director id associated with a particular movie ID \n",
    "- `persons` - Contains additional information relating to the director such as director name, occupation etc. \n",
    "- `movie_ratings` - Contains data relating to moviees such as runtime, genre, movie titles etc.\n",
    "- `movie_basics` - Contains data relating to ratings, votecounts etc \n",
    "\n",
    "Therefore, we will now run a query that joins all these tables and extracts the following fields required for our analysis:\n",
    "\n",
    "- `original_title`\n",
    "- `start_year`\n",
    "- `runtime_minutes`\n",
    "- `genres`\n",
    "- `averagerating`\n",
    "- `numvotes`\n",
    "- `primary_name`\n",
    "-`primary_profession`\n",
    "\n"
   ]
  },
  {
   "cell_type": "code",
   "execution_count": 9,
   "metadata": {},
   "outputs": [
    {
     "data": {
      "text/html": [
       "<div>\n",
       "<style scoped>\n",
       "    .dataframe tbody tr th:only-of-type {\n",
       "        vertical-align: middle;\n",
       "    }\n",
       "\n",
       "    .dataframe tbody tr th {\n",
       "        vertical-align: top;\n",
       "    }\n",
       "\n",
       "    .dataframe thead th {\n",
       "        text-align: right;\n",
       "    }\n",
       "</style>\n",
       "<table border=\"1\" class=\"dataframe\">\n",
       "  <thead>\n",
       "    <tr style=\"text-align: right;\">\n",
       "      <th></th>\n",
       "      <th>original_title</th>\n",
       "      <th>start_year</th>\n",
       "      <th>runtime_minutes</th>\n",
       "      <th>genres</th>\n",
       "      <th>averagerating</th>\n",
       "      <th>numvotes</th>\n",
       "      <th>primary_name</th>\n",
       "      <th>primary_profession</th>\n",
       "    </tr>\n",
       "  </thead>\n",
       "  <tbody>\n",
       "    <tr>\n",
       "      <th>0</th>\n",
       "      <td>Sunghursh</td>\n",
       "      <td>2013</td>\n",
       "      <td>175.0</td>\n",
       "      <td>Action,Crime,Drama</td>\n",
       "      <td>7.0</td>\n",
       "      <td>77</td>\n",
       "      <td>Harnam Singh Rawail</td>\n",
       "      <td>director,writer,producer</td>\n",
       "    </tr>\n",
       "    <tr>\n",
       "      <th>1</th>\n",
       "      <td>Ashad Ka Ek Din</td>\n",
       "      <td>2019</td>\n",
       "      <td>114.0</td>\n",
       "      <td>Biography,Drama</td>\n",
       "      <td>7.2</td>\n",
       "      <td>43</td>\n",
       "      <td>Mani Kaul</td>\n",
       "      <td>director,writer,actor</td>\n",
       "    </tr>\n",
       "    <tr>\n",
       "      <th>2</th>\n",
       "      <td>The Other Side of the Wind</td>\n",
       "      <td>2018</td>\n",
       "      <td>122.0</td>\n",
       "      <td>Drama</td>\n",
       "      <td>6.9</td>\n",
       "      <td>4517</td>\n",
       "      <td>Orson Welles</td>\n",
       "      <td>actor,director,writer</td>\n",
       "    </tr>\n",
       "    <tr>\n",
       "      <th>3</th>\n",
       "      <td>Sabse Bada Sukh</td>\n",
       "      <td>2018</td>\n",
       "      <td>NaN</td>\n",
       "      <td>Comedy,Drama</td>\n",
       "      <td>6.1</td>\n",
       "      <td>13</td>\n",
       "      <td>Hrishikesh Mukherjee</td>\n",
       "      <td>director,editor,writer</td>\n",
       "    </tr>\n",
       "    <tr>\n",
       "      <th>4</th>\n",
       "      <td>La Telenovela Errante</td>\n",
       "      <td>2017</td>\n",
       "      <td>80.0</td>\n",
       "      <td>Comedy,Drama,Fantasy</td>\n",
       "      <td>6.5</td>\n",
       "      <td>119</td>\n",
       "      <td>Raoul Ruiz</td>\n",
       "      <td>director,writer,producer</td>\n",
       "    </tr>\n",
       "    <tr>\n",
       "      <th>...</th>\n",
       "      <td>...</td>\n",
       "      <td>...</td>\n",
       "      <td>...</td>\n",
       "      <td>...</td>\n",
       "      <td>...</td>\n",
       "      <td>...</td>\n",
       "      <td>...</td>\n",
       "      <td>...</td>\n",
       "    </tr>\n",
       "    <tr>\n",
       "      <th>86019</th>\n",
       "      <td>Diabolik sono io</td>\n",
       "      <td>2019</td>\n",
       "      <td>75.0</td>\n",
       "      <td>Documentary</td>\n",
       "      <td>6.2</td>\n",
       "      <td>6</td>\n",
       "      <td>Giancarlo Soldi</td>\n",
       "      <td>director,writer,producer</td>\n",
       "    </tr>\n",
       "    <tr>\n",
       "      <th>86020</th>\n",
       "      <td>Sokagin Çocuklari</td>\n",
       "      <td>2019</td>\n",
       "      <td>98.0</td>\n",
       "      <td>Drama,Family</td>\n",
       "      <td>8.7</td>\n",
       "      <td>136</td>\n",
       "      <td>Ahmet Faik Akinci</td>\n",
       "      <td>director,writer</td>\n",
       "    </tr>\n",
       "    <tr>\n",
       "      <th>86021</th>\n",
       "      <td>Albatross</td>\n",
       "      <td>2017</td>\n",
       "      <td>NaN</td>\n",
       "      <td>Documentary</td>\n",
       "      <td>8.5</td>\n",
       "      <td>8</td>\n",
       "      <td>Chris Jordan</td>\n",
       "      <td>director,writer,editor</td>\n",
       "    </tr>\n",
       "    <tr>\n",
       "      <th>86022</th>\n",
       "      <td>La vida sense la Sara Amat</td>\n",
       "      <td>2019</td>\n",
       "      <td>NaN</td>\n",
       "      <td>None</td>\n",
       "      <td>6.6</td>\n",
       "      <td>5</td>\n",
       "      <td>Laura Jou</td>\n",
       "      <td>miscellaneous,actress,director</td>\n",
       "    </tr>\n",
       "    <tr>\n",
       "      <th>86023</th>\n",
       "      <td>Drømmeland</td>\n",
       "      <td>2019</td>\n",
       "      <td>72.0</td>\n",
       "      <td>Documentary</td>\n",
       "      <td>6.5</td>\n",
       "      <td>11</td>\n",
       "      <td>Joost van der Wiel</td>\n",
       "      <td>director,cinematographer,writer</td>\n",
       "    </tr>\n",
       "  </tbody>\n",
       "</table>\n",
       "<p>86024 rows × 8 columns</p>\n",
       "</div>"
      ],
      "text/plain": [
       "                   original_title  start_year  runtime_minutes  \\\n",
       "0                       Sunghursh        2013            175.0   \n",
       "1                 Ashad Ka Ek Din        2019            114.0   \n",
       "2      The Other Side of the Wind        2018            122.0   \n",
       "3                 Sabse Bada Sukh        2018              NaN   \n",
       "4           La Telenovela Errante        2017             80.0   \n",
       "...                           ...         ...              ...   \n",
       "86019            Diabolik sono io        2019             75.0   \n",
       "86020           Sokagin Çocuklari        2019             98.0   \n",
       "86021                   Albatross        2017              NaN   \n",
       "86022  La vida sense la Sara Amat        2019              NaN   \n",
       "86023                  Drømmeland        2019             72.0   \n",
       "\n",
       "                     genres  averagerating  numvotes          primary_name  \\\n",
       "0        Action,Crime,Drama            7.0        77   Harnam Singh Rawail   \n",
       "1           Biography,Drama            7.2        43             Mani Kaul   \n",
       "2                     Drama            6.9      4517          Orson Welles   \n",
       "3              Comedy,Drama            6.1        13  Hrishikesh Mukherjee   \n",
       "4      Comedy,Drama,Fantasy            6.5       119            Raoul Ruiz   \n",
       "...                     ...            ...       ...                   ...   \n",
       "86019           Documentary            6.2         6       Giancarlo Soldi   \n",
       "86020          Drama,Family            8.7       136     Ahmet Faik Akinci   \n",
       "86021           Documentary            8.5         8          Chris Jordan   \n",
       "86022                  None            6.6         5             Laura Jou   \n",
       "86023           Documentary            6.5        11    Joost van der Wiel   \n",
       "\n",
       "                    primary_profession  \n",
       "0             director,writer,producer  \n",
       "1                director,writer,actor  \n",
       "2                actor,director,writer  \n",
       "3               director,editor,writer  \n",
       "4             director,writer,producer  \n",
       "...                                ...  \n",
       "86019         director,writer,producer  \n",
       "86020                  director,writer  \n",
       "86021           director,writer,editor  \n",
       "86022   miscellaneous,actress,director  \n",
       "86023  director,cinematographer,writer  \n",
       "\n",
       "[86024 rows x 8 columns]"
      ]
     },
     "execution_count": 9,
     "metadata": {},
     "output_type": "execute_result"
    }
   ],
   "source": [
    "# Selecting key information for analysis from multiple tables in the database, including \n",
    "# movie titles, release years, runtime, genres, ratings, vote counts, director names, and\n",
    "# professions. \n",
    "# This query integrates data from `movie_basics`, `movie_ratings`, `directors`, and `persons\n",
    "# tables to align with project objectives.\n",
    "df_imdb =pd.read_sql(\"\"\"\n",
    "\n",
    "SELECT DISTINCT original_title, \n",
    "                start_year,\n",
    "                runtime_minutes,\n",
    "                genres,\n",
    "                averagerating,\n",
    "                numvotes,\n",
    "                primary_name,\n",
    "                primary_profession\n",
    "  FROM movie_basics\n",
    "       JOIN movie_ratings\n",
    "       ON movie_basics.movie_id = movie_ratings.movie_id\n",
    "              JOIN directors\n",
    "               ON movie_ratings.movie_id = directors.movie_id\n",
    "                  JOIN persons\n",
    "                    ON directors.person_id = persons.person_id;\n",
    " \n",
    "\n",
    "\"\"\",conn)\n",
    "\n",
    "df_imdb"
   ]
  },
  {
   "cell_type": "markdown",
   "metadata": {},
   "source": [
    "### Merging the datasets\n",
    "\n",
    "Now that we have all the datasets, next step is to merge them into one dataset and perform data cleaning on the merged datasets. The datasets we will be merging are:\n",
    "\n",
    "- `bom_gross_df`\n",
    "- `df_budget`\n",
    "- `df_imdb`\n",
    "\n",
    "We'll start off by merging `bom_gross_df` and `df_imdb` on the movie title column as it is common between the two dataframes. However, we will have to rename these columns in the their respective dataframes."
   ]
  },
  {
   "cell_type": "code",
   "execution_count": 10,
   "metadata": {},
   "outputs": [],
   "source": [
    "# We rename the common column in both dataFrames\n",
    "bom_gross_df.rename(columns ={\"title\":\"Movie_title\"}, inplace = True)\n",
    "df_imdb.rename(columns ={\"original_title\":\"Movie_title\"}, inplace = True)"
   ]
  },
  {
   "cell_type": "code",
   "execution_count": 11,
   "metadata": {},
   "outputs": [
    {
     "data": {
      "text/html": [
       "<div>\n",
       "<style scoped>\n",
       "    .dataframe tbody tr th:only-of-type {\n",
       "        vertical-align: middle;\n",
       "    }\n",
       "\n",
       "    .dataframe tbody tr th {\n",
       "        vertical-align: top;\n",
       "    }\n",
       "\n",
       "    .dataframe thead th {\n",
       "        text-align: right;\n",
       "    }\n",
       "</style>\n",
       "<table border=\"1\" class=\"dataframe\">\n",
       "  <thead>\n",
       "    <tr style=\"text-align: right;\">\n",
       "      <th></th>\n",
       "      <th>Movie_title</th>\n",
       "      <th>studio</th>\n",
       "      <th>domestic_gross</th>\n",
       "      <th>foreign_gross</th>\n",
       "      <th>year</th>\n",
       "    </tr>\n",
       "  </thead>\n",
       "  <tbody>\n",
       "    <tr>\n",
       "      <th>0</th>\n",
       "      <td>Toy Story 3</td>\n",
       "      <td>BV</td>\n",
       "      <td>415000000.0</td>\n",
       "      <td>652000000</td>\n",
       "      <td>2010</td>\n",
       "    </tr>\n",
       "    <tr>\n",
       "      <th>1</th>\n",
       "      <td>Alice in Wonderland (2010)</td>\n",
       "      <td>BV</td>\n",
       "      <td>334200000.0</td>\n",
       "      <td>691300000</td>\n",
       "      <td>2010</td>\n",
       "    </tr>\n",
       "    <tr>\n",
       "      <th>2</th>\n",
       "      <td>Harry Potter and the Deathly Hallows Part 1</td>\n",
       "      <td>WB</td>\n",
       "      <td>296000000.0</td>\n",
       "      <td>664300000</td>\n",
       "      <td>2010</td>\n",
       "    </tr>\n",
       "    <tr>\n",
       "      <th>3</th>\n",
       "      <td>Inception</td>\n",
       "      <td>WB</td>\n",
       "      <td>292600000.0</td>\n",
       "      <td>535700000</td>\n",
       "      <td>2010</td>\n",
       "    </tr>\n",
       "    <tr>\n",
       "      <th>4</th>\n",
       "      <td>Shrek Forever After</td>\n",
       "      <td>P/DW</td>\n",
       "      <td>238700000.0</td>\n",
       "      <td>513900000</td>\n",
       "      <td>2010</td>\n",
       "    </tr>\n",
       "  </tbody>\n",
       "</table>\n",
       "</div>"
      ],
      "text/plain": [
       "                                   Movie_title studio  domestic_gross  \\\n",
       "0                                  Toy Story 3     BV     415000000.0   \n",
       "1                   Alice in Wonderland (2010)     BV     334200000.0   \n",
       "2  Harry Potter and the Deathly Hallows Part 1     WB     296000000.0   \n",
       "3                                    Inception     WB     292600000.0   \n",
       "4                          Shrek Forever After   P/DW     238700000.0   \n",
       "\n",
       "  foreign_gross  year  \n",
       "0     652000000  2010  \n",
       "1     691300000  2010  \n",
       "2     664300000  2010  \n",
       "3     535700000  2010  \n",
       "4     513900000  2010  "
      ]
     },
     "execution_count": 11,
     "metadata": {},
     "output_type": "execute_result"
    }
   ],
   "source": [
    "# Confirming that the renaming has been updated in  bom_gross_df\n",
    "bom_gross_df.head()"
   ]
  },
  {
   "cell_type": "code",
   "execution_count": 12,
   "metadata": {},
   "outputs": [
    {
     "data": {
      "text/html": [
       "<div>\n",
       "<style scoped>\n",
       "    .dataframe tbody tr th:only-of-type {\n",
       "        vertical-align: middle;\n",
       "    }\n",
       "\n",
       "    .dataframe tbody tr th {\n",
       "        vertical-align: top;\n",
       "    }\n",
       "\n",
       "    .dataframe thead th {\n",
       "        text-align: right;\n",
       "    }\n",
       "</style>\n",
       "<table border=\"1\" class=\"dataframe\">\n",
       "  <thead>\n",
       "    <tr style=\"text-align: right;\">\n",
       "      <th></th>\n",
       "      <th>Movie_title</th>\n",
       "      <th>start_year</th>\n",
       "      <th>runtime_minutes</th>\n",
       "      <th>genres</th>\n",
       "      <th>averagerating</th>\n",
       "      <th>numvotes</th>\n",
       "      <th>primary_name</th>\n",
       "      <th>primary_profession</th>\n",
       "    </tr>\n",
       "  </thead>\n",
       "  <tbody>\n",
       "    <tr>\n",
       "      <th>0</th>\n",
       "      <td>Sunghursh</td>\n",
       "      <td>2013</td>\n",
       "      <td>175.0</td>\n",
       "      <td>Action,Crime,Drama</td>\n",
       "      <td>7.0</td>\n",
       "      <td>77</td>\n",
       "      <td>Harnam Singh Rawail</td>\n",
       "      <td>director,writer,producer</td>\n",
       "    </tr>\n",
       "    <tr>\n",
       "      <th>1</th>\n",
       "      <td>Ashad Ka Ek Din</td>\n",
       "      <td>2019</td>\n",
       "      <td>114.0</td>\n",
       "      <td>Biography,Drama</td>\n",
       "      <td>7.2</td>\n",
       "      <td>43</td>\n",
       "      <td>Mani Kaul</td>\n",
       "      <td>director,writer,actor</td>\n",
       "    </tr>\n",
       "    <tr>\n",
       "      <th>2</th>\n",
       "      <td>The Other Side of the Wind</td>\n",
       "      <td>2018</td>\n",
       "      <td>122.0</td>\n",
       "      <td>Drama</td>\n",
       "      <td>6.9</td>\n",
       "      <td>4517</td>\n",
       "      <td>Orson Welles</td>\n",
       "      <td>actor,director,writer</td>\n",
       "    </tr>\n",
       "    <tr>\n",
       "      <th>3</th>\n",
       "      <td>Sabse Bada Sukh</td>\n",
       "      <td>2018</td>\n",
       "      <td>NaN</td>\n",
       "      <td>Comedy,Drama</td>\n",
       "      <td>6.1</td>\n",
       "      <td>13</td>\n",
       "      <td>Hrishikesh Mukherjee</td>\n",
       "      <td>director,editor,writer</td>\n",
       "    </tr>\n",
       "    <tr>\n",
       "      <th>4</th>\n",
       "      <td>La Telenovela Errante</td>\n",
       "      <td>2017</td>\n",
       "      <td>80.0</td>\n",
       "      <td>Comedy,Drama,Fantasy</td>\n",
       "      <td>6.5</td>\n",
       "      <td>119</td>\n",
       "      <td>Raoul Ruiz</td>\n",
       "      <td>director,writer,producer</td>\n",
       "    </tr>\n",
       "  </tbody>\n",
       "</table>\n",
       "</div>"
      ],
      "text/plain": [
       "                  Movie_title  start_year  runtime_minutes  \\\n",
       "0                   Sunghursh        2013            175.0   \n",
       "1             Ashad Ka Ek Din        2019            114.0   \n",
       "2  The Other Side of the Wind        2018            122.0   \n",
       "3             Sabse Bada Sukh        2018              NaN   \n",
       "4       La Telenovela Errante        2017             80.0   \n",
       "\n",
       "                 genres  averagerating  numvotes          primary_name  \\\n",
       "0    Action,Crime,Drama            7.0        77   Harnam Singh Rawail   \n",
       "1       Biography,Drama            7.2        43             Mani Kaul   \n",
       "2                 Drama            6.9      4517          Orson Welles   \n",
       "3          Comedy,Drama            6.1        13  Hrishikesh Mukherjee   \n",
       "4  Comedy,Drama,Fantasy            6.5       119            Raoul Ruiz   \n",
       "\n",
       "         primary_profession  \n",
       "0  director,writer,producer  \n",
       "1     director,writer,actor  \n",
       "2     actor,director,writer  \n",
       "3    director,editor,writer  \n",
       "4  director,writer,producer  "
      ]
     },
     "execution_count": 12,
     "metadata": {},
     "output_type": "execute_result"
    }
   ],
   "source": [
    "# Confirming that the renaming has been updated in the df_imdb\n",
    "df_imdb.head()"
   ]
  },
  {
   "cell_type": "markdown",
   "metadata": {},
   "source": [
    "As part of this step we observe the dimensions as well as presence of duplicates in both these dataframes before merging them."
   ]
  },
  {
   "cell_type": "code",
   "execution_count": 13,
   "metadata": {},
   "outputs": [
    {
     "data": {
      "text/plain": [
       "(3387, 5)"
      ]
     },
     "execution_count": 13,
     "metadata": {},
     "output_type": "execute_result"
    }
   ],
   "source": [
    "#Checking the dimensions of the bom_gross_df\n",
    "\n",
    "bom_gross_df.shape"
   ]
  },
  {
   "cell_type": "code",
   "execution_count": 14,
   "metadata": {},
   "outputs": [
    {
     "data": {
      "text/plain": [
       "(86024, 8)"
      ]
     },
     "execution_count": 14,
     "metadata": {},
     "output_type": "execute_result"
    }
   ],
   "source": [
    "#Checking the dimensions of the bom_gross_df\n",
    "\n",
    "df_imdb.shape"
   ]
  },
  {
   "cell_type": "code",
   "execution_count": 15,
   "metadata": {},
   "outputs": [
    {
     "name": "stdout",
     "output_type": "stream",
     "text": [
      "Duplicates in bom_gross_df = 1\n",
      "Duplicates in df_imdb = 15637\n"
     ]
    }
   ],
   "source": [
    "# Checking for duplicates in bom_gross_df and df_imdb based on movie title\n",
    "duplicates_bom_gross_df = bom_gross_df[bom_gross_df.duplicated(subset=\"Movie_title\")]\n",
    "duplicates_df_imdb = df_imdb[df_imdb.duplicated(subset=\"Movie_title\")]\n",
    "print(\"Duplicates in bom_gross_df =\", len(duplicates_bom_gross_df))\n",
    "print(\"Duplicates in df_imdb =\" ,len(duplicates_df_imdb))"
   ]
  },
  {
   "cell_type": "code",
   "execution_count": 16,
   "metadata": {},
   "outputs": [
    {
     "data": {
      "text/html": [
       "<div>\n",
       "<style scoped>\n",
       "    .dataframe tbody tr th:only-of-type {\n",
       "        vertical-align: middle;\n",
       "    }\n",
       "\n",
       "    .dataframe tbody tr th {\n",
       "        vertical-align: top;\n",
       "    }\n",
       "\n",
       "    .dataframe thead th {\n",
       "        text-align: right;\n",
       "    }\n",
       "</style>\n",
       "<table border=\"1\" class=\"dataframe\">\n",
       "  <thead>\n",
       "    <tr style=\"text-align: right;\">\n",
       "      <th></th>\n",
       "      <th>Movie_title</th>\n",
       "      <th>studio</th>\n",
       "      <th>domestic_gross</th>\n",
       "      <th>foreign_gross</th>\n",
       "      <th>year</th>\n",
       "    </tr>\n",
       "  </thead>\n",
       "  <tbody>\n",
       "    <tr>\n",
       "      <th>3045</th>\n",
       "      <td>Bluebeard</td>\n",
       "      <td>WGUSA</td>\n",
       "      <td>43100.0</td>\n",
       "      <td>NaN</td>\n",
       "      <td>2017</td>\n",
       "    </tr>\n",
       "  </tbody>\n",
       "</table>\n",
       "</div>"
      ],
      "text/plain": [
       "     Movie_title studio  domestic_gross foreign_gross  year\n",
       "3045   Bluebeard  WGUSA         43100.0           NaN  2017"
      ]
     },
     "execution_count": 16,
     "metadata": {},
     "output_type": "execute_result"
    }
   ],
   "source": [
    "# Observing the duplicate rows in the bom_gross_df \n",
    "duplicates_bom_gross_df.head()"
   ]
  },
  {
   "cell_type": "code",
   "execution_count": 17,
   "metadata": {},
   "outputs": [
    {
     "data": {
      "text/html": [
       "<div>\n",
       "<style scoped>\n",
       "    .dataframe tbody tr th:only-of-type {\n",
       "        vertical-align: middle;\n",
       "    }\n",
       "\n",
       "    .dataframe tbody tr th {\n",
       "        vertical-align: top;\n",
       "    }\n",
       "\n",
       "    .dataframe thead th {\n",
       "        text-align: right;\n",
       "    }\n",
       "</style>\n",
       "<table border=\"1\" class=\"dataframe\">\n",
       "  <thead>\n",
       "    <tr style=\"text-align: right;\">\n",
       "      <th></th>\n",
       "      <th>Movie_title</th>\n",
       "      <th>start_year</th>\n",
       "      <th>runtime_minutes</th>\n",
       "      <th>genres</th>\n",
       "      <th>averagerating</th>\n",
       "      <th>numvotes</th>\n",
       "      <th>primary_name</th>\n",
       "      <th>primary_profession</th>\n",
       "    </tr>\n",
       "  </thead>\n",
       "  <tbody>\n",
       "    <tr>\n",
       "      <th>5</th>\n",
       "      <td>La Telenovela Errante</td>\n",
       "      <td>2017</td>\n",
       "      <td>80.0</td>\n",
       "      <td>Comedy,Drama,Fantasy</td>\n",
       "      <td>6.5</td>\n",
       "      <td>119</td>\n",
       "      <td>Valeria Sarmiento</td>\n",
       "      <td>editor,director,writer</td>\n",
       "    </tr>\n",
       "    <tr>\n",
       "      <th>20</th>\n",
       "      <td>Gangavataran</td>\n",
       "      <td>2018</td>\n",
       "      <td>134.0</td>\n",
       "      <td>None</td>\n",
       "      <td>6.6</td>\n",
       "      <td>8</td>\n",
       "      <td>Dhundiraj Govind Phalke</td>\n",
       "      <td>director,writer,cinematographer</td>\n",
       "    </tr>\n",
       "    <tr>\n",
       "      <th>27</th>\n",
       "      <td>Kurzzeithelden</td>\n",
       "      <td>2015</td>\n",
       "      <td>45.0</td>\n",
       "      <td>Sci-Fi</td>\n",
       "      <td>6.6</td>\n",
       "      <td>16</td>\n",
       "      <td>Roman Gonther</td>\n",
       "      <td>visual_effects,director,writer</td>\n",
       "    </tr>\n",
       "    <tr>\n",
       "      <th>33</th>\n",
       "      <td>Quantum Quest: A Cassini Space Odyssey</td>\n",
       "      <td>2010</td>\n",
       "      <td>45.0</td>\n",
       "      <td>Adventure,Animation,Sci-Fi</td>\n",
       "      <td>5.1</td>\n",
       "      <td>287</td>\n",
       "      <td>Harry 'Doc' Kloor</td>\n",
       "      <td>producer,writer,miscellaneous</td>\n",
       "    </tr>\n",
       "    <tr>\n",
       "      <th>62</th>\n",
       "      <td>The Three Stooges</td>\n",
       "      <td>2012</td>\n",
       "      <td>92.0</td>\n",
       "      <td>Comedy,Family</td>\n",
       "      <td>5.1</td>\n",
       "      <td>28570</td>\n",
       "      <td>Peter Farrelly</td>\n",
       "      <td>producer,writer,director</td>\n",
       "    </tr>\n",
       "  </tbody>\n",
       "</table>\n",
       "</div>"
      ],
      "text/plain": [
       "                               Movie_title  start_year  runtime_minutes  \\\n",
       "5                    La Telenovela Errante        2017             80.0   \n",
       "20                            Gangavataran        2018            134.0   \n",
       "27                          Kurzzeithelden        2015             45.0   \n",
       "33  Quantum Quest: A Cassini Space Odyssey        2010             45.0   \n",
       "62                       The Three Stooges        2012             92.0   \n",
       "\n",
       "                        genres  averagerating  numvotes  \\\n",
       "5         Comedy,Drama,Fantasy            6.5       119   \n",
       "20                        None            6.6         8   \n",
       "27                      Sci-Fi            6.6        16   \n",
       "33  Adventure,Animation,Sci-Fi            5.1       287   \n",
       "62               Comedy,Family            5.1     28570   \n",
       "\n",
       "               primary_name               primary_profession  \n",
       "5         Valeria Sarmiento           editor,director,writer  \n",
       "20  Dhundiraj Govind Phalke  director,writer,cinematographer  \n",
       "27            Roman Gonther   visual_effects,director,writer  \n",
       "33        Harry 'Doc' Kloor    producer,writer,miscellaneous  \n",
       "62           Peter Farrelly         producer,writer,director  "
      ]
     },
     "execution_count": 17,
     "metadata": {},
     "output_type": "execute_result"
    }
   ],
   "source": [
    "# Observing the duplicate rows in the bom_gross_df \n",
    "duplicates_df_imdb.head()"
   ]
  },
  {
   "cell_type": "code",
   "execution_count": 18,
   "metadata": {},
   "outputs": [],
   "source": [
    "#Merge the two dataframes on a common feature Movie_title and create a new dataframe\n",
    "\n",
    "merged_movies_df = bom_gross_df.merge(df_imdb, on = 'Movie_title', how = 'left')"
   ]
  },
  {
   "cell_type": "markdown",
   "metadata": {},
   "source": [
    "We now proceed with a left merge and create a new dataframe `merged_movies_df`\n"
   ]
  },
  {
   "cell_type": "code",
   "execution_count": 19,
   "metadata": {},
   "outputs": [
    {
     "data": {
      "text/plain": [
       "(4023, 12)"
      ]
     },
     "execution_count": 19,
     "metadata": {},
     "output_type": "execute_result"
    }
   ],
   "source": [
    "# checking the shape number of rows and columns our new dataframe\n",
    "merged_movies_df.shape"
   ]
  },
  {
   "cell_type": "markdown",
   "metadata": {},
   "source": [
    "From the merge above, it does seem that there has been additional records added to our original `bom_gross_df` dataframe. This is expected if there is more than one record in the `df_imdb` that relate to a record in the `bom_gross_df` dataframe. "
   ]
  },
  {
   "cell_type": "code",
   "execution_count": 20,
   "metadata": {},
   "outputs": [
    {
     "data": {
      "text/html": [
       "<div>\n",
       "<style scoped>\n",
       "    .dataframe tbody tr th:only-of-type {\n",
       "        vertical-align: middle;\n",
       "    }\n",
       "\n",
       "    .dataframe tbody tr th {\n",
       "        vertical-align: top;\n",
       "    }\n",
       "\n",
       "    .dataframe thead th {\n",
       "        text-align: right;\n",
       "    }\n",
       "</style>\n",
       "<table border=\"1\" class=\"dataframe\">\n",
       "  <thead>\n",
       "    <tr style=\"text-align: right;\">\n",
       "      <th></th>\n",
       "      <th>Movie_title</th>\n",
       "      <th>studio</th>\n",
       "      <th>domestic_gross</th>\n",
       "      <th>foreign_gross</th>\n",
       "      <th>year</th>\n",
       "      <th>start_year</th>\n",
       "      <th>runtime_minutes</th>\n",
       "      <th>genres</th>\n",
       "      <th>averagerating</th>\n",
       "      <th>numvotes</th>\n",
       "      <th>primary_name</th>\n",
       "      <th>primary_profession</th>\n",
       "    </tr>\n",
       "  </thead>\n",
       "  <tbody>\n",
       "    <tr>\n",
       "      <th>0</th>\n",
       "      <td>Toy Story 3</td>\n",
       "      <td>BV</td>\n",
       "      <td>415000000.0</td>\n",
       "      <td>652000000</td>\n",
       "      <td>2010</td>\n",
       "      <td>2010.0</td>\n",
       "      <td>103.0</td>\n",
       "      <td>Adventure,Animation,Comedy</td>\n",
       "      <td>8.3</td>\n",
       "      <td>682218.0</td>\n",
       "      <td>Lee Unkrich</td>\n",
       "      <td>editorial_department,editor,miscellaneous</td>\n",
       "    </tr>\n",
       "    <tr>\n",
       "      <th>1</th>\n",
       "      <td>Alice in Wonderland (2010)</td>\n",
       "      <td>BV</td>\n",
       "      <td>334200000.0</td>\n",
       "      <td>691300000</td>\n",
       "      <td>2010</td>\n",
       "      <td>NaN</td>\n",
       "      <td>NaN</td>\n",
       "      <td>NaN</td>\n",
       "      <td>NaN</td>\n",
       "      <td>NaN</td>\n",
       "      <td>NaN</td>\n",
       "      <td>NaN</td>\n",
       "    </tr>\n",
       "    <tr>\n",
       "      <th>2</th>\n",
       "      <td>Harry Potter and the Deathly Hallows Part 1</td>\n",
       "      <td>WB</td>\n",
       "      <td>296000000.0</td>\n",
       "      <td>664300000</td>\n",
       "      <td>2010</td>\n",
       "      <td>NaN</td>\n",
       "      <td>NaN</td>\n",
       "      <td>NaN</td>\n",
       "      <td>NaN</td>\n",
       "      <td>NaN</td>\n",
       "      <td>NaN</td>\n",
       "      <td>NaN</td>\n",
       "    </tr>\n",
       "    <tr>\n",
       "      <th>3</th>\n",
       "      <td>Inception</td>\n",
       "      <td>WB</td>\n",
       "      <td>292600000.0</td>\n",
       "      <td>535700000</td>\n",
       "      <td>2010</td>\n",
       "      <td>2010.0</td>\n",
       "      <td>148.0</td>\n",
       "      <td>Action,Adventure,Sci-Fi</td>\n",
       "      <td>8.8</td>\n",
       "      <td>1841066.0</td>\n",
       "      <td>Christopher Nolan</td>\n",
       "      <td>writer,producer,director</td>\n",
       "    </tr>\n",
       "    <tr>\n",
       "      <th>4</th>\n",
       "      <td>Shrek Forever After</td>\n",
       "      <td>P/DW</td>\n",
       "      <td>238700000.0</td>\n",
       "      <td>513900000</td>\n",
       "      <td>2010</td>\n",
       "      <td>2010.0</td>\n",
       "      <td>93.0</td>\n",
       "      <td>Adventure,Animation,Comedy</td>\n",
       "      <td>6.3</td>\n",
       "      <td>167532.0</td>\n",
       "      <td>Mike Mitchell</td>\n",
       "      <td>actor,director,writer</td>\n",
       "    </tr>\n",
       "  </tbody>\n",
       "</table>\n",
       "</div>"
      ],
      "text/plain": [
       "                                   Movie_title studio  domestic_gross  \\\n",
       "0                                  Toy Story 3     BV     415000000.0   \n",
       "1                   Alice in Wonderland (2010)     BV     334200000.0   \n",
       "2  Harry Potter and the Deathly Hallows Part 1     WB     296000000.0   \n",
       "3                                    Inception     WB     292600000.0   \n",
       "4                          Shrek Forever After   P/DW     238700000.0   \n",
       "\n",
       "  foreign_gross  year  start_year  runtime_minutes  \\\n",
       "0     652000000  2010      2010.0            103.0   \n",
       "1     691300000  2010         NaN              NaN   \n",
       "2     664300000  2010         NaN              NaN   \n",
       "3     535700000  2010      2010.0            148.0   \n",
       "4     513900000  2010      2010.0             93.0   \n",
       "\n",
       "                       genres  averagerating   numvotes       primary_name  \\\n",
       "0  Adventure,Animation,Comedy            8.3   682218.0        Lee Unkrich   \n",
       "1                         NaN            NaN        NaN                NaN   \n",
       "2                         NaN            NaN        NaN                NaN   \n",
       "3     Action,Adventure,Sci-Fi            8.8  1841066.0  Christopher Nolan   \n",
       "4  Adventure,Animation,Comedy            6.3   167532.0      Mike Mitchell   \n",
       "\n",
       "                          primary_profession  \n",
       "0  editorial_department,editor,miscellaneous  \n",
       "1                                        NaN  \n",
       "2                                        NaN  \n",
       "3                   writer,producer,director  \n",
       "4                      actor,director,writer  "
      ]
     },
     "execution_count": 20,
     "metadata": {},
     "output_type": "execute_result"
    }
   ],
   "source": [
    "# check the first few rows of the merged dataframe\n",
    "merged_movies_df.head()"
   ]
  },
  {
   "cell_type": "markdown",
   "metadata": {},
   "source": [
    "Now that we have created a mereged dataframe `merged_data_frame`, we will proceed with merging this dataset with the `df_budget`dataframe as shown below. Similar steps will be applied here."
   ]
  },
  {
   "cell_type": "code",
   "execution_count": 21,
   "metadata": {},
   "outputs": [
    {
     "data": {
      "text/html": [
       "<div>\n",
       "<style scoped>\n",
       "    .dataframe tbody tr th:only-of-type {\n",
       "        vertical-align: middle;\n",
       "    }\n",
       "\n",
       "    .dataframe tbody tr th {\n",
       "        vertical-align: top;\n",
       "    }\n",
       "\n",
       "    .dataframe thead th {\n",
       "        text-align: right;\n",
       "    }\n",
       "</style>\n",
       "<table border=\"1\" class=\"dataframe\">\n",
       "  <thead>\n",
       "    <tr style=\"text-align: right;\">\n",
       "      <th></th>\n",
       "      <th>id</th>\n",
       "      <th>release_date</th>\n",
       "      <th>Movie_title</th>\n",
       "      <th>production_budget</th>\n",
       "      <th>domestic_gross</th>\n",
       "      <th>worldwide_gross</th>\n",
       "    </tr>\n",
       "  </thead>\n",
       "  <tbody>\n",
       "    <tr>\n",
       "      <th>0</th>\n",
       "      <td>1</td>\n",
       "      <td>Dec 18, 2009</td>\n",
       "      <td>Avatar</td>\n",
       "      <td>$425,000,000</td>\n",
       "      <td>$760,507,625</td>\n",
       "      <td>$2,776,345,279</td>\n",
       "    </tr>\n",
       "    <tr>\n",
       "      <th>1</th>\n",
       "      <td>2</td>\n",
       "      <td>May 20, 2011</td>\n",
       "      <td>Pirates of the Caribbean: On Stranger Tides</td>\n",
       "      <td>$410,600,000</td>\n",
       "      <td>$241,063,875</td>\n",
       "      <td>$1,045,663,875</td>\n",
       "    </tr>\n",
       "    <tr>\n",
       "      <th>2</th>\n",
       "      <td>3</td>\n",
       "      <td>Jun 7, 2019</td>\n",
       "      <td>Dark Phoenix</td>\n",
       "      <td>$350,000,000</td>\n",
       "      <td>$42,762,350</td>\n",
       "      <td>$149,762,350</td>\n",
       "    </tr>\n",
       "    <tr>\n",
       "      <th>3</th>\n",
       "      <td>4</td>\n",
       "      <td>May 1, 2015</td>\n",
       "      <td>Avengers: Age of Ultron</td>\n",
       "      <td>$330,600,000</td>\n",
       "      <td>$459,005,868</td>\n",
       "      <td>$1,403,013,963</td>\n",
       "    </tr>\n",
       "    <tr>\n",
       "      <th>4</th>\n",
       "      <td>5</td>\n",
       "      <td>Dec 15, 2017</td>\n",
       "      <td>Star Wars Ep. VIII: The Last Jedi</td>\n",
       "      <td>$317,000,000</td>\n",
       "      <td>$620,181,382</td>\n",
       "      <td>$1,316,721,747</td>\n",
       "    </tr>\n",
       "  </tbody>\n",
       "</table>\n",
       "</div>"
      ],
      "text/plain": [
       "   id  release_date                                  Movie_title  \\\n",
       "0   1  Dec 18, 2009                                       Avatar   \n",
       "1   2  May 20, 2011  Pirates of the Caribbean: On Stranger Tides   \n",
       "2   3   Jun 7, 2019                                 Dark Phoenix   \n",
       "3   4   May 1, 2015                      Avengers: Age of Ultron   \n",
       "4   5  Dec 15, 2017            Star Wars Ep. VIII: The Last Jedi   \n",
       "\n",
       "  production_budget domestic_gross worldwide_gross  \n",
       "0      $425,000,000   $760,507,625  $2,776,345,279  \n",
       "1      $410,600,000   $241,063,875  $1,045,663,875  \n",
       "2      $350,000,000    $42,762,350    $149,762,350  \n",
       "3      $330,600,000   $459,005,868  $1,403,013,963  \n",
       "4      $317,000,000   $620,181,382  $1,316,721,747  "
      ]
     },
     "execution_count": 21,
     "metadata": {},
     "output_type": "execute_result"
    }
   ],
   "source": [
    "# Renaming movie column in df4 to have a commom feature we can merge on\n",
    "df_budget.rename(columns ={\"movie\":\"Movie_title\"}, inplace = True)\n",
    "df_budget.head()"
   ]
  },
  {
   "cell_type": "code",
   "execution_count": 22,
   "metadata": {},
   "outputs": [
    {
     "data": {
      "text/html": [
       "<div>\n",
       "<style scoped>\n",
       "    .dataframe tbody tr th:only-of-type {\n",
       "        vertical-align: middle;\n",
       "    }\n",
       "\n",
       "    .dataframe tbody tr th {\n",
       "        vertical-align: top;\n",
       "    }\n",
       "\n",
       "    .dataframe thead th {\n",
       "        text-align: right;\n",
       "    }\n",
       "</style>\n",
       "<table border=\"1\" class=\"dataframe\">\n",
       "  <thead>\n",
       "    <tr style=\"text-align: right;\">\n",
       "      <th></th>\n",
       "      <th>Movie_title</th>\n",
       "      <th>studio</th>\n",
       "      <th>domestic_gross_x</th>\n",
       "      <th>foreign_gross</th>\n",
       "      <th>year</th>\n",
       "      <th>start_year</th>\n",
       "      <th>runtime_minutes</th>\n",
       "      <th>genres</th>\n",
       "      <th>averagerating</th>\n",
       "      <th>numvotes</th>\n",
       "      <th>primary_name</th>\n",
       "      <th>primary_profession</th>\n",
       "      <th>id</th>\n",
       "      <th>release_date</th>\n",
       "      <th>production_budget</th>\n",
       "      <th>domestic_gross_y</th>\n",
       "      <th>worldwide_gross</th>\n",
       "    </tr>\n",
       "  </thead>\n",
       "  <tbody>\n",
       "    <tr>\n",
       "      <th>0</th>\n",
       "      <td>Toy Story 3</td>\n",
       "      <td>BV</td>\n",
       "      <td>415000000.0</td>\n",
       "      <td>652000000</td>\n",
       "      <td>2010</td>\n",
       "      <td>2010.0</td>\n",
       "      <td>103.0</td>\n",
       "      <td>Adventure,Animation,Comedy</td>\n",
       "      <td>8.3</td>\n",
       "      <td>682218.0</td>\n",
       "      <td>Lee Unkrich</td>\n",
       "      <td>editorial_department,editor,miscellaneous</td>\n",
       "      <td>47.0</td>\n",
       "      <td>Jun 18, 2010</td>\n",
       "      <td>$200,000,000</td>\n",
       "      <td>$415,004,880</td>\n",
       "      <td>$1,068,879,522</td>\n",
       "    </tr>\n",
       "    <tr>\n",
       "      <th>1</th>\n",
       "      <td>Alice in Wonderland (2010)</td>\n",
       "      <td>BV</td>\n",
       "      <td>334200000.0</td>\n",
       "      <td>691300000</td>\n",
       "      <td>2010</td>\n",
       "      <td>NaN</td>\n",
       "      <td>NaN</td>\n",
       "      <td>NaN</td>\n",
       "      <td>NaN</td>\n",
       "      <td>NaN</td>\n",
       "      <td>NaN</td>\n",
       "      <td>NaN</td>\n",
       "      <td>NaN</td>\n",
       "      <td>NaN</td>\n",
       "      <td>NaN</td>\n",
       "      <td>NaN</td>\n",
       "      <td>NaN</td>\n",
       "    </tr>\n",
       "    <tr>\n",
       "      <th>2</th>\n",
       "      <td>Harry Potter and the Deathly Hallows Part 1</td>\n",
       "      <td>WB</td>\n",
       "      <td>296000000.0</td>\n",
       "      <td>664300000</td>\n",
       "      <td>2010</td>\n",
       "      <td>NaN</td>\n",
       "      <td>NaN</td>\n",
       "      <td>NaN</td>\n",
       "      <td>NaN</td>\n",
       "      <td>NaN</td>\n",
       "      <td>NaN</td>\n",
       "      <td>NaN</td>\n",
       "      <td>NaN</td>\n",
       "      <td>NaN</td>\n",
       "      <td>NaN</td>\n",
       "      <td>NaN</td>\n",
       "      <td>NaN</td>\n",
       "    </tr>\n",
       "    <tr>\n",
       "      <th>3</th>\n",
       "      <td>Inception</td>\n",
       "      <td>WB</td>\n",
       "      <td>292600000.0</td>\n",
       "      <td>535700000</td>\n",
       "      <td>2010</td>\n",
       "      <td>2010.0</td>\n",
       "      <td>148.0</td>\n",
       "      <td>Action,Adventure,Sci-Fi</td>\n",
       "      <td>8.8</td>\n",
       "      <td>1841066.0</td>\n",
       "      <td>Christopher Nolan</td>\n",
       "      <td>writer,producer,director</td>\n",
       "      <td>38.0</td>\n",
       "      <td>Jul 16, 2010</td>\n",
       "      <td>$160,000,000</td>\n",
       "      <td>$292,576,195</td>\n",
       "      <td>$835,524,642</td>\n",
       "    </tr>\n",
       "    <tr>\n",
       "      <th>4</th>\n",
       "      <td>Shrek Forever After</td>\n",
       "      <td>P/DW</td>\n",
       "      <td>238700000.0</td>\n",
       "      <td>513900000</td>\n",
       "      <td>2010</td>\n",
       "      <td>2010.0</td>\n",
       "      <td>93.0</td>\n",
       "      <td>Adventure,Animation,Comedy</td>\n",
       "      <td>6.3</td>\n",
       "      <td>167532.0</td>\n",
       "      <td>Mike Mitchell</td>\n",
       "      <td>actor,director,writer</td>\n",
       "      <td>27.0</td>\n",
       "      <td>May 21, 2010</td>\n",
       "      <td>$165,000,000</td>\n",
       "      <td>$238,736,787</td>\n",
       "      <td>$756,244,673</td>\n",
       "    </tr>\n",
       "  </tbody>\n",
       "</table>\n",
       "</div>"
      ],
      "text/plain": [
       "                                   Movie_title studio  domestic_gross_x  \\\n",
       "0                                  Toy Story 3     BV       415000000.0   \n",
       "1                   Alice in Wonderland (2010)     BV       334200000.0   \n",
       "2  Harry Potter and the Deathly Hallows Part 1     WB       296000000.0   \n",
       "3                                    Inception     WB       292600000.0   \n",
       "4                          Shrek Forever After   P/DW       238700000.0   \n",
       "\n",
       "  foreign_gross  year  start_year  runtime_minutes  \\\n",
       "0     652000000  2010      2010.0            103.0   \n",
       "1     691300000  2010         NaN              NaN   \n",
       "2     664300000  2010         NaN              NaN   \n",
       "3     535700000  2010      2010.0            148.0   \n",
       "4     513900000  2010      2010.0             93.0   \n",
       "\n",
       "                       genres  averagerating   numvotes       primary_name  \\\n",
       "0  Adventure,Animation,Comedy            8.3   682218.0        Lee Unkrich   \n",
       "1                         NaN            NaN        NaN                NaN   \n",
       "2                         NaN            NaN        NaN                NaN   \n",
       "3     Action,Adventure,Sci-Fi            8.8  1841066.0  Christopher Nolan   \n",
       "4  Adventure,Animation,Comedy            6.3   167532.0      Mike Mitchell   \n",
       "\n",
       "                          primary_profession    id  release_date  \\\n",
       "0  editorial_department,editor,miscellaneous  47.0  Jun 18, 2010   \n",
       "1                                        NaN   NaN           NaN   \n",
       "2                                        NaN   NaN           NaN   \n",
       "3                   writer,producer,director  38.0  Jul 16, 2010   \n",
       "4                      actor,director,writer  27.0  May 21, 2010   \n",
       "\n",
       "  production_budget domestic_gross_y worldwide_gross  \n",
       "0      $200,000,000     $415,004,880  $1,068,879,522  \n",
       "1               NaN              NaN             NaN  \n",
       "2               NaN              NaN             NaN  \n",
       "3      $160,000,000     $292,576,195    $835,524,642  \n",
       "4      $165,000,000     $238,736,787    $756,244,673  "
      ]
     },
     "execution_count": 22,
     "metadata": {},
     "output_type": "execute_result"
    }
   ],
   "source": [
    "# Merging df_merged with df_budget to create a comprehensive master dataset for analysis\n",
    "\n",
    "final_merged_movies_df = merged_movies_df.merge(df_budget, on = 'Movie_title', how = 'left')\n",
    "final_merged_movies_df.head()"
   ]
  },
  {
   "cell_type": "code",
   "execution_count": 23,
   "metadata": {},
   "outputs": [
    {
     "name": "stdout",
     "output_type": "stream",
     "text": [
      "We have 4043 rows and 17 columns\n"
     ]
    }
   ],
   "source": [
    "# Checking the shape of our master data\n",
    "print(f\"We have {final_merged_movies_df.shape[0]} rows and {final_merged_movies_df.shape[1]} columns\")"
   ]
  },
  {
   "cell_type": "code",
   "execution_count": 24,
   "metadata": {},
   "outputs": [
    {
     "name": "stdout",
     "output_type": "stream",
     "text": [
      "657\n"
     ]
    }
   ],
   "source": [
    "#Checking for dulicates based on movie entries\n",
    "\n",
    "duplicates_final_merged_movies_df = final_merged_movies_df[final_merged_movies_df.duplicated(subset=\"Movie_title\")]\n",
    "print(len(duplicates_final_merged_movies_df ))"
   ]
  },
  {
   "cell_type": "code",
   "execution_count": 25,
   "metadata": {},
   "outputs": [
    {
     "name": "stdout",
     "output_type": "stream",
     "text": [
      "<class 'pandas.core.frame.DataFrame'>\n",
      "Int64Index: 4043 entries, 0 to 4042\n",
      "Data columns (total 17 columns):\n",
      " #   Column              Non-Null Count  Dtype  \n",
      "---  ------              --------------  -----  \n",
      " 0   Movie_title         4043 non-null   object \n",
      " 1   studio              4037 non-null   object \n",
      " 2   domestic_gross_x    4008 non-null   float64\n",
      " 3   foreign_gross       2466 non-null   object \n",
      " 4   year                4043 non-null   int64  \n",
      " 5   start_year          2792 non-null   float64\n",
      " 6   runtime_minutes     2727 non-null   float64\n",
      " 7   genres              2787 non-null   object \n",
      " 8   averagerating       2792 non-null   float64\n",
      " 9   numvotes            2792 non-null   float64\n",
      " 10  primary_name        2792 non-null   object \n",
      " 11  primary_profession  2792 non-null   object \n",
      " 12  id                  1589 non-null   float64\n",
      " 13  release_date        1589 non-null   object \n",
      " 14  production_budget   1589 non-null   object \n",
      " 15  domestic_gross_y    1589 non-null   object \n",
      " 16  worldwide_gross     1589 non-null   object \n",
      "dtypes: float64(6), int64(1), object(10)\n",
      "memory usage: 568.5+ KB\n"
     ]
    }
   ],
   "source": [
    "# Getting to understand the structure of our master data through a concise summary\n",
    "final_merged_movies_df.info()"
   ]
  },
  {
   "cell_type": "markdown",
   "metadata": {},
   "source": [
    "We now have a master dataset that has merged all the datasets. Based on the `movie title` we can observe that we have 657 duplicates in this dataset already. Also, from the summary above, there seems to be a lot of null values in the columns following the merge. Therefore, the dataset needs to be cleaned before any meaningful, analysis can be done."
   ]
  },
  {
   "cell_type": "markdown",
   "metadata": {},
   "source": [
    "### Data Cleaning and Checking for Missing Values\n",
    "\n",
    "To begin, we will make a copy of the data and make changes to this. This will ensure we have the original masterdata in the event we need to go back to it for additional reference\n",
    "\n"
   ]
  },
  {
   "cell_type": "code",
   "execution_count": 26,
   "metadata": {},
   "outputs": [],
   "source": [
    "# Make a copy before modifying the masterdata\n",
    "merged_movies_analysis_df= final_merged_movies_df.copy()"
   ]
  },
  {
   "cell_type": "markdown",
   "metadata": {},
   "source": [
    "#### Check For Missing Values\n",
    "\n",
    "As has been observed earlier, there are a lot of missing values. Let's take a deep look into this."
   ]
  },
  {
   "cell_type": "code",
   "execution_count": 27,
   "metadata": {},
   "outputs": [
    {
     "data": {
      "text/plain": [
       "Movie_title              0\n",
       "studio                   6\n",
       "domestic_gross_x        35\n",
       "foreign_gross         1577\n",
       "year                     0\n",
       "start_year            1251\n",
       "runtime_minutes       1316\n",
       "genres                1256\n",
       "averagerating         1251\n",
       "numvotes              1251\n",
       "primary_name          1251\n",
       "primary_profession    1251\n",
       "id                    2454\n",
       "release_date          2454\n",
       "production_budget     2454\n",
       "domestic_gross_y      2454\n",
       "worldwide_gross       2454\n",
       "dtype: int64"
      ]
     },
     "execution_count": 27,
     "metadata": {},
     "output_type": "execute_result"
    }
   ],
   "source": [
    "merged_movies_analysis_df.isna().sum()"
   ]
  },
  {
   "cell_type": "markdown",
   "metadata": {},
   "source": [
    " ##### Percentage of Null values\n",
    " "
   ]
  },
  {
   "cell_type": "code",
   "execution_count": 28,
   "metadata": {},
   "outputs": [
    {
     "data": {
      "text/html": [
       "<div>\n",
       "<style scoped>\n",
       "    .dataframe tbody tr th:only-of-type {\n",
       "        vertical-align: middle;\n",
       "    }\n",
       "\n",
       "    .dataframe tbody tr th {\n",
       "        vertical-align: top;\n",
       "    }\n",
       "\n",
       "    .dataframe thead th {\n",
       "        text-align: right;\n",
       "    }\n",
       "</style>\n",
       "<table border=\"1\" class=\"dataframe\">\n",
       "  <thead>\n",
       "    <tr style=\"text-align: right;\">\n",
       "      <th></th>\n",
       "      <th>Columns</th>\n",
       "      <th>Null Percentages</th>\n",
       "    </tr>\n",
       "  </thead>\n",
       "  <tbody>\n",
       "    <tr>\n",
       "      <th>16</th>\n",
       "      <td>worldwide_gross</td>\n",
       "      <td>60.697502</td>\n",
       "    </tr>\n",
       "    <tr>\n",
       "      <th>15</th>\n",
       "      <td>domestic_gross_y</td>\n",
       "      <td>60.697502</td>\n",
       "    </tr>\n",
       "    <tr>\n",
       "      <th>14</th>\n",
       "      <td>production_budget</td>\n",
       "      <td>60.697502</td>\n",
       "    </tr>\n",
       "    <tr>\n",
       "      <th>13</th>\n",
       "      <td>release_date</td>\n",
       "      <td>60.697502</td>\n",
       "    </tr>\n",
       "    <tr>\n",
       "      <th>12</th>\n",
       "      <td>id</td>\n",
       "      <td>60.697502</td>\n",
       "    </tr>\n",
       "    <tr>\n",
       "      <th>3</th>\n",
       "      <td>foreign_gross</td>\n",
       "      <td>39.005689</td>\n",
       "    </tr>\n",
       "    <tr>\n",
       "      <th>6</th>\n",
       "      <td>runtime_minutes</td>\n",
       "      <td>32.550087</td>\n",
       "    </tr>\n",
       "    <tr>\n",
       "      <th>7</th>\n",
       "      <td>genres</td>\n",
       "      <td>31.066040</td>\n",
       "    </tr>\n",
       "    <tr>\n",
       "      <th>10</th>\n",
       "      <td>primary_name</td>\n",
       "      <td>30.942370</td>\n",
       "    </tr>\n",
       "    <tr>\n",
       "      <th>11</th>\n",
       "      <td>primary_profession</td>\n",
       "      <td>30.942370</td>\n",
       "    </tr>\n",
       "    <tr>\n",
       "      <th>8</th>\n",
       "      <td>averagerating</td>\n",
       "      <td>30.942370</td>\n",
       "    </tr>\n",
       "    <tr>\n",
       "      <th>9</th>\n",
       "      <td>numvotes</td>\n",
       "      <td>30.942370</td>\n",
       "    </tr>\n",
       "    <tr>\n",
       "      <th>5</th>\n",
       "      <td>start_year</td>\n",
       "      <td>30.942370</td>\n",
       "    </tr>\n",
       "    <tr>\n",
       "      <th>2</th>\n",
       "      <td>domestic_gross_x</td>\n",
       "      <td>0.865694</td>\n",
       "    </tr>\n",
       "    <tr>\n",
       "      <th>1</th>\n",
       "      <td>studio</td>\n",
       "      <td>0.148405</td>\n",
       "    </tr>\n",
       "    <tr>\n",
       "      <th>4</th>\n",
       "      <td>year</td>\n",
       "      <td>0.000000</td>\n",
       "    </tr>\n",
       "    <tr>\n",
       "      <th>0</th>\n",
       "      <td>Movie_title</td>\n",
       "      <td>0.000000</td>\n",
       "    </tr>\n",
       "  </tbody>\n",
       "</table>\n",
       "</div>"
      ],
      "text/plain": [
       "               Columns  Null Percentages\n",
       "16     worldwide_gross         60.697502\n",
       "15    domestic_gross_y         60.697502\n",
       "14   production_budget         60.697502\n",
       "13        release_date         60.697502\n",
       "12                  id         60.697502\n",
       "3        foreign_gross         39.005689\n",
       "6      runtime_minutes         32.550087\n",
       "7               genres         31.066040\n",
       "10        primary_name         30.942370\n",
       "11  primary_profession         30.942370\n",
       "8        averagerating         30.942370\n",
       "9             numvotes         30.942370\n",
       "5           start_year         30.942370\n",
       "2     domestic_gross_x          0.865694\n",
       "1               studio          0.148405\n",
       "4                 year          0.000000\n",
       "0          Movie_title          0.000000"
      ]
     },
     "execution_count": 28,
     "metadata": {},
     "output_type": "execute_result"
    }
   ],
   "source": [
    "# Calculate null percentage for each column\n",
    "null_percentage = [(col, (merged_movies_analysis_df[col].isna().sum() / len(merged_movies_analysis_df)) * 100) for col in merged_movies_analysis_df.columns]\n",
    "\n",
    "# Create a DataFrame from the null percentages\n",
    "null_percentage_df = pd.DataFrame(null_percentage, columns=[\"Columns\", \"Null Percentages\"])\n",
    "\n",
    "# Sort in descending order\n",
    "null_percentage_df = null_percentage_df.sort_values(by=\"Null Percentages\", ascending=False)\n",
    "null_percentage_df"
   ]
  },
  {
   "cell_type": "markdown",
   "metadata": {},
   "source": [
    "##### Working with a dataset containing columns with 60% nulls can be challenging, but retaining these columns can be advantageous if they hold significant relevance to our business problem. Here’s why keeping these columns but working with fewer rows can be beneficial:\n",
    "\n",
    "* Preserving Feature Diversity: Retaining column structure while using fewer rows maintains a broader set of features, potentially leading to a more comprehensive and balanced analysis.\n",
    "\n",
    "* Enhancing Model Relevance: Retaining high-relevance columns (even with some missing data) can improve model accuracy, especially if these columns strongly influence the target variable. This approach may yield more relevant predictions compared to models with higher row counts but less meaningful features.\n",
    "\n",
    "* Maintaining Critical Information: If certain columns (e.g., production budget, domestic/foreign revenue, runtime, or genre) are vital to the business question, dropping them would mean losing key metrics or context essential to achieving valuable insights.\n",
    "\n",
    "* Avoiding Bias from Selective Imputation: Imputing values in high-null columns can introduce biases, especially if the missing data isn't randomly distributed. By carefully retaining rows rather than using selective imputation, the analysis remains more reliable and less prone to misleading conclusions.\n",
    "\n",
    "By prioritizing relevant columns over row count, the dataset remains aligned with the primary analytical objectives, ultimately supporting more accurate and insightful outcomes while minimizing the risk of bias.\n",
    "\n"
   ]
  },
  {
   "cell_type": "code",
   "execution_count": 29,
   "metadata": {},
   "outputs": [
    {
     "data": {
      "text/plain": [
       "Movie_title           0\n",
       "studio                0\n",
       "domestic_gross_x      0\n",
       "foreign_gross         0\n",
       "year                  0\n",
       "start_year            0\n",
       "runtime_minutes       0\n",
       "genres                0\n",
       "averagerating         0\n",
       "numvotes              0\n",
       "primary_name          0\n",
       "primary_profession    0\n",
       "id                    0\n",
       "release_date          0\n",
       "production_budget     0\n",
       "domestic_gross_y      0\n",
       "worldwide_gross       0\n",
       "dtype: int64"
      ]
     },
     "execution_count": 29,
     "metadata": {},
     "output_type": "execute_result"
    }
   ],
   "source": [
    "# Drop rows with null values and reassign to df5\n",
    "merged_movies_analysis_df= merged_movies_analysis_df.dropna()\n",
    "\n",
    "# Check if there are any remaining null values\n",
    "merged_movies_analysis_df.isna().sum()"
   ]
  },
  {
   "cell_type": "markdown",
   "metadata": {},
   "source": [
    "##### Check for Duplicates\n",
    "\n",
    "We will now check to see if there are any duplicates present in this data. As a result of removing the null values, we can observe that the data is now free of any duplicates. We are now ready to proceed to perform analysis using this data."
   ]
  },
  {
   "cell_type": "code",
   "execution_count": 30,
   "metadata": {},
   "outputs": [
    {
     "name": "stdout",
     "output_type": "stream",
     "text": [
      "We have 0 duplicates in this dataset\n"
     ]
    }
   ],
   "source": [
    "# Checking for duplicate\n",
    "print(f\"We have {merged_movies_analysis_df.duplicated().sum()} duplicates in this dataset\")"
   ]
  },
  {
   "cell_type": "code",
   "execution_count": 31,
   "metadata": {},
   "outputs": [
    {
     "name": "stdout",
     "output_type": "stream",
     "text": [
      "We have 1264 rows and 17 in our cleaned dataframe\n"
     ]
    }
   ],
   "source": [
    "# checking how many rows and columns in filtered df\n",
    "print(f\"We have {merged_movies_analysis_df.shape[0]} rows and {merged_movies_analysis_df.shape[1]} in our cleaned dataframe\")"
   ]
  },
  {
   "cell_type": "code",
   "execution_count": 32,
   "metadata": {},
   "outputs": [
    {
     "name": "stdout",
     "output_type": "stream",
     "text": [
      "<class 'pandas.core.frame.DataFrame'>\n",
      "Int64Index: 1264 entries, 0 to 3909\n",
      "Data columns (total 17 columns):\n",
      " #   Column              Non-Null Count  Dtype  \n",
      "---  ------              --------------  -----  \n",
      " 0   Movie_title         1264 non-null   object \n",
      " 1   studio              1264 non-null   object \n",
      " 2   domestic_gross_x    1264 non-null   float64\n",
      " 3   foreign_gross       1264 non-null   object \n",
      " 4   year                1264 non-null   int64  \n",
      " 5   start_year          1264 non-null   float64\n",
      " 6   runtime_minutes     1264 non-null   float64\n",
      " 7   genres              1264 non-null   object \n",
      " 8   averagerating       1264 non-null   float64\n",
      " 9   numvotes            1264 non-null   float64\n",
      " 10  primary_name        1264 non-null   object \n",
      " 11  primary_profession  1264 non-null   object \n",
      " 12  id                  1264 non-null   float64\n",
      " 13  release_date        1264 non-null   object \n",
      " 14  production_budget   1264 non-null   object \n",
      " 15  domestic_gross_y    1264 non-null   object \n",
      " 16  worldwide_gross     1264 non-null   object \n",
      "dtypes: float64(6), int64(1), object(10)\n",
      "memory usage: 177.8+ KB\n"
     ]
    }
   ],
   "source": [
    "merged_movies_analysis_df.info()"
   ]
  },
  {
   "cell_type": "markdown",
   "metadata": {},
   "source": [
    "## 1. Analyze the correlation between runtime and genre and whether either of the two has an impact on average ratings.\n",
    "\n",
    "In this section we will be analyzing runtime, genre and average ratings to determine:\n",
    "\n",
    "- Which genre tends to have highly rated movies\n",
    "- Which genre tends to have the longest duration as measured by runtime\n",
    "- Determine if there is a relationship between runtime and rating per movie genre\n",
    "\n",
    "\n",
    "We will begin by first analyzing the columns in question:\n",
    "\n",
    "###  a. `genres`\n",
    "\n"
   ]
  },
  {
   "cell_type": "markdown",
   "metadata": {},
   "source": [
    "The `genres` column has a mix of movie titles which have one genre and otheres having more than 1 genre attached to them as can be seen below. To fix this, we will create a new column called `modified_genres` which will split the list and take the first genre in the list. By doing so, we are assuming that the main genre is shown at first while the rest are sub genres of the movie."
   ]
  },
  {
   "cell_type": "code",
   "execution_count": 33,
   "metadata": {},
   "outputs": [
    {
     "data": {
      "text/plain": [
       "Adventure,Animation,Comedy    93\n",
       "Comedy                        54\n",
       "Drama                         53\n",
       "Action,Adventure,Sci-Fi       45\n",
       "Comedy,Drama                  40\n",
       "                              ..\n",
       "Adventure,Comedy,Sci-Fi        1\n",
       "Action,History                 1\n",
       "Adventure,Drama,Sport          1\n",
       "Drama,History,Romance          1\n",
       "Drama,Romance,War              1\n",
       "Name: genres, Length: 191, dtype: int64"
      ]
     },
     "execution_count": 33,
     "metadata": {},
     "output_type": "execute_result"
    }
   ],
   "source": [
    "merged_movies_analysis_df[\"genres\"].value_counts()"
   ]
  },
  {
   "cell_type": "code",
   "execution_count": 34,
   "metadata": {},
   "outputs": [],
   "source": [
    "#Creating new colum \"modified_genres\" which contains one value following splitting of entries in the genres column\n",
    "#We only select the first value in the list   \n",
    "\n",
    "merged_movies_analysis_df[\"modified_genres\"] = merged_movies_analysis_df[\"genres\"].str.split(\",\").str[0]"
   ]
  },
  {
   "cell_type": "code",
   "execution_count": 35,
   "metadata": {},
   "outputs": [
    {
     "data": {
      "text/html": [
       "<div>\n",
       "<style scoped>\n",
       "    .dataframe tbody tr th:only-of-type {\n",
       "        vertical-align: middle;\n",
       "    }\n",
       "\n",
       "    .dataframe tbody tr th {\n",
       "        vertical-align: top;\n",
       "    }\n",
       "\n",
       "    .dataframe thead th {\n",
       "        text-align: right;\n",
       "    }\n",
       "</style>\n",
       "<table border=\"1\" class=\"dataframe\">\n",
       "  <thead>\n",
       "    <tr style=\"text-align: right;\">\n",
       "      <th></th>\n",
       "      <th>Movie_title</th>\n",
       "      <th>studio</th>\n",
       "      <th>domestic_gross_x</th>\n",
       "      <th>foreign_gross</th>\n",
       "      <th>year</th>\n",
       "      <th>start_year</th>\n",
       "      <th>runtime_minutes</th>\n",
       "      <th>genres</th>\n",
       "      <th>averagerating</th>\n",
       "      <th>numvotes</th>\n",
       "      <th>primary_name</th>\n",
       "      <th>primary_profession</th>\n",
       "      <th>id</th>\n",
       "      <th>release_date</th>\n",
       "      <th>production_budget</th>\n",
       "      <th>domestic_gross_y</th>\n",
       "      <th>worldwide_gross</th>\n",
       "      <th>modified_genres</th>\n",
       "    </tr>\n",
       "  </thead>\n",
       "  <tbody>\n",
       "    <tr>\n",
       "      <th>0</th>\n",
       "      <td>Toy Story 3</td>\n",
       "      <td>BV</td>\n",
       "      <td>415000000.0</td>\n",
       "      <td>652000000</td>\n",
       "      <td>2010</td>\n",
       "      <td>2010.0</td>\n",
       "      <td>103.0</td>\n",
       "      <td>Adventure,Animation,Comedy</td>\n",
       "      <td>8.3</td>\n",
       "      <td>682218.0</td>\n",
       "      <td>Lee Unkrich</td>\n",
       "      <td>editorial_department,editor,miscellaneous</td>\n",
       "      <td>47.0</td>\n",
       "      <td>Jun 18, 2010</td>\n",
       "      <td>$200,000,000</td>\n",
       "      <td>$415,004,880</td>\n",
       "      <td>$1,068,879,522</td>\n",
       "      <td>Adventure</td>\n",
       "    </tr>\n",
       "    <tr>\n",
       "      <th>3</th>\n",
       "      <td>Inception</td>\n",
       "      <td>WB</td>\n",
       "      <td>292600000.0</td>\n",
       "      <td>535700000</td>\n",
       "      <td>2010</td>\n",
       "      <td>2010.0</td>\n",
       "      <td>148.0</td>\n",
       "      <td>Action,Adventure,Sci-Fi</td>\n",
       "      <td>8.8</td>\n",
       "      <td>1841066.0</td>\n",
       "      <td>Christopher Nolan</td>\n",
       "      <td>writer,producer,director</td>\n",
       "      <td>38.0</td>\n",
       "      <td>Jul 16, 2010</td>\n",
       "      <td>$160,000,000</td>\n",
       "      <td>$292,576,195</td>\n",
       "      <td>$835,524,642</td>\n",
       "      <td>Action</td>\n",
       "    </tr>\n",
       "    <tr>\n",
       "      <th>4</th>\n",
       "      <td>Shrek Forever After</td>\n",
       "      <td>P/DW</td>\n",
       "      <td>238700000.0</td>\n",
       "      <td>513900000</td>\n",
       "      <td>2010</td>\n",
       "      <td>2010.0</td>\n",
       "      <td>93.0</td>\n",
       "      <td>Adventure,Animation,Comedy</td>\n",
       "      <td>6.3</td>\n",
       "      <td>167532.0</td>\n",
       "      <td>Mike Mitchell</td>\n",
       "      <td>actor,director,writer</td>\n",
       "      <td>27.0</td>\n",
       "      <td>May 21, 2010</td>\n",
       "      <td>$165,000,000</td>\n",
       "      <td>$238,736,787</td>\n",
       "      <td>$756,244,673</td>\n",
       "      <td>Adventure</td>\n",
       "    </tr>\n",
       "    <tr>\n",
       "      <th>5</th>\n",
       "      <td>The Twilight Saga: Eclipse</td>\n",
       "      <td>Sum.</td>\n",
       "      <td>300500000.0</td>\n",
       "      <td>398000000</td>\n",
       "      <td>2010</td>\n",
       "      <td>2010.0</td>\n",
       "      <td>124.0</td>\n",
       "      <td>Adventure,Drama,Fantasy</td>\n",
       "      <td>5.0</td>\n",
       "      <td>211733.0</td>\n",
       "      <td>David Slade</td>\n",
       "      <td>producer,director,writer</td>\n",
       "      <td>53.0</td>\n",
       "      <td>Jun 30, 2010</td>\n",
       "      <td>$68,000,000</td>\n",
       "      <td>$300,531,751</td>\n",
       "      <td>$706,102,828</td>\n",
       "      <td>Adventure</td>\n",
       "    </tr>\n",
       "    <tr>\n",
       "      <th>6</th>\n",
       "      <td>Iron Man 2</td>\n",
       "      <td>Par.</td>\n",
       "      <td>312400000.0</td>\n",
       "      <td>311500000</td>\n",
       "      <td>2010</td>\n",
       "      <td>2010.0</td>\n",
       "      <td>124.0</td>\n",
       "      <td>Action,Adventure,Sci-Fi</td>\n",
       "      <td>7.0</td>\n",
       "      <td>657690.0</td>\n",
       "      <td>Jon Favreau</td>\n",
       "      <td>producer,actor,miscellaneous</td>\n",
       "      <td>15.0</td>\n",
       "      <td>May 7, 2010</td>\n",
       "      <td>$170,000,000</td>\n",
       "      <td>$312,433,331</td>\n",
       "      <td>$621,156,389</td>\n",
       "      <td>Action</td>\n",
       "    </tr>\n",
       "  </tbody>\n",
       "</table>\n",
       "</div>"
      ],
      "text/plain": [
       "                  Movie_title studio  domestic_gross_x foreign_gross  year  \\\n",
       "0                 Toy Story 3     BV       415000000.0     652000000  2010   \n",
       "3                   Inception     WB       292600000.0     535700000  2010   \n",
       "4         Shrek Forever After   P/DW       238700000.0     513900000  2010   \n",
       "5  The Twilight Saga: Eclipse   Sum.       300500000.0     398000000  2010   \n",
       "6                  Iron Man 2   Par.       312400000.0     311500000  2010   \n",
       "\n",
       "   start_year  runtime_minutes                      genres  averagerating  \\\n",
       "0      2010.0            103.0  Adventure,Animation,Comedy            8.3   \n",
       "3      2010.0            148.0     Action,Adventure,Sci-Fi            8.8   \n",
       "4      2010.0             93.0  Adventure,Animation,Comedy            6.3   \n",
       "5      2010.0            124.0     Adventure,Drama,Fantasy            5.0   \n",
       "6      2010.0            124.0     Action,Adventure,Sci-Fi            7.0   \n",
       "\n",
       "    numvotes       primary_name                         primary_profession  \\\n",
       "0   682218.0        Lee Unkrich  editorial_department,editor,miscellaneous   \n",
       "3  1841066.0  Christopher Nolan                   writer,producer,director   \n",
       "4   167532.0      Mike Mitchell                      actor,director,writer   \n",
       "5   211733.0        David Slade                   producer,director,writer   \n",
       "6   657690.0        Jon Favreau               producer,actor,miscellaneous   \n",
       "\n",
       "     id  release_date production_budget domestic_gross_y worldwide_gross  \\\n",
       "0  47.0  Jun 18, 2010      $200,000,000     $415,004,880  $1,068,879,522   \n",
       "3  38.0  Jul 16, 2010      $160,000,000     $292,576,195    $835,524,642   \n",
       "4  27.0  May 21, 2010      $165,000,000     $238,736,787    $756,244,673   \n",
       "5  53.0  Jun 30, 2010       $68,000,000     $300,531,751    $706,102,828   \n",
       "6  15.0   May 7, 2010      $170,000,000     $312,433,331    $621,156,389   \n",
       "\n",
       "  modified_genres  \n",
       "0       Adventure  \n",
       "3          Action  \n",
       "4       Adventure  \n",
       "5       Adventure  \n",
       "6          Action  "
      ]
     },
     "execution_count": 35,
     "metadata": {},
     "output_type": "execute_result"
    }
   ],
   "source": [
    "#Checking if the changes have been applied\n",
    "merged_movies_analysis_df.head()"
   ]
  },
  {
   "cell_type": "markdown",
   "metadata": {},
   "source": [
    "Now, let's observe the value counts in the `modified_genres` column. We have disctinct values attached to each entry in the dataframe."
   ]
  },
  {
   "cell_type": "code",
   "execution_count": 36,
   "metadata": {},
   "outputs": [
    {
     "data": {
      "text/plain": [
       "Action         373\n",
       "Comedy         235\n",
       "Drama          191\n",
       "Adventure      172\n",
       "Biography       87\n",
       "Horror          71\n",
       "Crime           67\n",
       "Documentary     40\n",
       "Animation       10\n",
       "Thriller         7\n",
       "Fantasy          4\n",
       "Mystery          3\n",
       "Sci-Fi           2\n",
       "Music            1\n",
       "Romance          1\n",
       "Name: modified_genres, dtype: int64"
      ]
     },
     "execution_count": 36,
     "metadata": {},
     "output_type": "execute_result"
    }
   ],
   "source": [
    "merged_movies_analysis_df[\"modified_genres\"].value_counts()\n"
   ]
  },
  {
   "cell_type": "markdown",
   "metadata": {},
   "source": [
    "### b. `averagerating`\n",
    "\n",
    "Similarly, we have a look through the average rating and no additional modification is needed. We can observe that the highest rating given in our dataset is 9.2 while the lowest is 1.6. The movies had a rating of around 6.4 which was slightly below the median score of 6.5"
   ]
  },
  {
   "cell_type": "code",
   "execution_count": 37,
   "metadata": {},
   "outputs": [
    {
     "data": {
      "text/plain": [
       "count    1264.000000\n",
       "mean        6.413528\n",
       "std         1.054417\n",
       "min         1.600000\n",
       "25%         5.875000\n",
       "50%         6.500000\n",
       "75%         7.100000\n",
       "max         9.200000\n",
       "Name: averagerating, dtype: float64"
      ]
     },
     "execution_count": 37,
     "metadata": {},
     "output_type": "execute_result"
    }
   ],
   "source": [
    "merged_movies_analysis_df[\"averagerating\"].describe()"
   ]
  },
  {
   "cell_type": "markdown",
   "metadata": {},
   "source": [
    "## c. `runtime_minutes` \n",
    "\n",
    "Finally, we will have a look at the distribution of runtime movies in our dataset. We observe that average run time for movies in our dataset is roughly 107 minutes. However, the spread is much more pronounced here, with a wide variation between the minimum run time of 3 mins and max run time of 180 mins."
   ]
  },
  {
   "cell_type": "code",
   "execution_count": 38,
   "metadata": {},
   "outputs": [
    {
     "data": {
      "text/plain": [
       "count    1264.000000\n",
       "mean      106.712816\n",
       "std        19.917501\n",
       "min         3.000000\n",
       "25%        94.000000\n",
       "50%       105.000000\n",
       "75%       118.000000\n",
       "max       180.000000\n",
       "Name: runtime_minutes, dtype: float64"
      ]
     },
     "execution_count": 38,
     "metadata": {},
     "output_type": "execute_result"
    }
   ],
   "source": [
    "merged_movies_analysis_df[\"runtime_minutes\"].describe()"
   ]
  },
  {
   "cell_type": "markdown",
   "metadata": {},
   "source": [
    "## Data Analysis\n",
    "\n",
    "To get a better understanding of the data, we will first begin by plotting two bar graphs side by side to check how the rating and run time are distributed per genre."
   ]
  },
  {
   "cell_type": "code",
   "execution_count": 39,
   "metadata": {},
   "outputs": [
    {
     "name": "stdout",
     "output_type": "stream",
     "text": [
      "274\n",
      "0\n"
     ]
    }
   ],
   "source": [
    "runtime_rating_df = merged_movies_analysis_df.loc[:,[\"Movie_title\",\"modified_genres\",\"averagerating\",\"runtime_minutes\"]]\n",
    "runtime_rating_df.shape\n",
    "\n",
    "runtime_rating_df_duplicated  = runtime_rating_df [runtime_rating_df .duplicated(subset=\"Movie_title\")]\n",
    "print(len(runtime_rating_df_duplicated))\n",
    "\n",
    "modified_runtime_rating_df = runtime_rating_df.drop_duplicates(\"Movie_title\", keep=\"last\")\n",
    "modified_runtime_rating_df_duplicated  =modified_runtime_rating_df[modified_runtime_rating_df.duplicated(subset=\"Movie_title\")]\n",
    "print(len(modified_runtime_rating_df_duplicated))\n"
   ]
  },
  {
   "cell_type": "code",
   "execution_count": 40,
   "metadata": {},
   "outputs": [
    {
     "data": {
      "image/png": "[encoded data removed]",
      "text/plain": [
       "<Figure size 864x576 with 2 Axes>"
      ]
     },
     "metadata": {},
     "output_type": "display_data"
    }
   ],
   "source": [
    "plt.style.use(\"fivethirtyeight\")\n",
    "\n",
    "fig, ax = plt.subplots(nrows=1, ncols=2, figsize = (12,8))\n",
    "\n",
    "ax[0].bar(merged_movies_analysis_df[\"modified_genres\"],merged_movies_analysis_df[\"averagerating\"])\n",
    "ax[0].tick_params(axis=\"x\", labelrotation= 90)\n",
    "ax[0].set_xlabel(\"Genre\")\n",
    "ax[0].set_ylabel(\"Average Rating\")\n",
    "ax[0].set_title(\"BarGraph of Genre vs Average Rating\")\n",
    "ax[1].bar(merged_movies_analysis_df[\"modified_genres\"],merged_movies_analysis_df[\"runtime_minutes\"])\n",
    "ax[1].tick_params(axis=\"x\", labelrotation= 90)\n",
    "ax[1].set_xlabel(\"Genre\")\n",
    "ax[1].set_ylabel(\"Run-time (Minutes)\")\n",
    "ax[1].set_title(\"BarGraph of Genre vs Runtime\");"
   ]
  },
  {
   "cell_type": "code",
   "execution_count": 41,
   "metadata": {},
   "outputs": [
    {
     "data": {
      "image/png": "[encoded data removed]",
      "text/plain": [
       "<Figure size 864x576 with 2 Axes>"
      ]
     },
     "metadata": {},
     "output_type": "display_data"
    }
   ],
   "source": [
    "plt.style.use(\"fivethirtyeight\")\n",
    "\n",
    "fig, ax = plt.subplots(nrows=1, ncols=2, figsize = (12,8))\n",
    "\n",
    "ax[0].bar(modified_runtime_rating_df[\"modified_genres\"],modified_runtime_rating_df[\"averagerating\"])\n",
    "ax[0].tick_params(axis=\"x\", labelrotation= 90)\n",
    "ax[0].set_xlabel(\"Genre\")\n",
    "ax[0].set_ylabel(\"Average Rating\")\n",
    "ax[0].set_title(\"BarGraph of Genre vs Average Rating\")\n",
    "ax[1].bar(modified_runtime_rating_df[\"modified_genres\"],modified_runtime_rating_df[\"runtime_minutes\"])\n",
    "ax[1].tick_params(axis=\"x\", labelrotation= 90)\n",
    "ax[1].set_xlabel(\"Genre\")\n",
    "ax[1].set_ylabel(\"Run-time (Minutes)\")\n",
    "ax[1].set_title(\"BarGraph of Genre vs Runtime\");"
   ]
  },
  {
   "cell_type": "markdown",
   "metadata": {},
   "source": [
    "It is evident from the diagram above that adventure movies and documentaries are tied as having the highest average rating. This is closely followed by action, drama and comedy movies respectively. On the other hand, when it comes to run time, biographies had the longest run time followed by action movies. Adventure and crime came in third with almost similar run times. Something interesting to note is that sci-fi movies had the least average rating and run time. This then begs the question, is there any relationship between average rating and runtime?\n",
    "\n",
    "To try and answer this question, we will first begin by plotting a scatter diagram and observing if there is any relationship.\n"
   ]
  },
  {
   "cell_type": "code",
   "execution_count": 42,
   "metadata": {},
   "outputs": [
    {
     "data": {
      "text/plain": [
       "''"
      ]
     },
     "execution_count": 42,
     "metadata": {},
     "output_type": "execute_result"
    },
    {
     "data": {
      "image/png": "[encoded data removed]",
      "text/plain": [
       "<Figure size 864x576 with 1 Axes>"
      ]
     },
     "metadata": {},
     "output_type": "display_data"
    }
   ],
   "source": [
    "# Scatter plot of average rating and runtime minutes\n",
    "\n",
    "\n",
    "fig, ax = plt.subplots(figsize = (12,8))\n",
    "\n",
    "ax.scatter(merged_movies_analysis_df[\"averagerating\"],merged_movies_analysis_df[\"runtime_minutes\"])\n",
    "ax.set_xlabel(\"Average rating\")\n",
    "ax.set_ylabel(\"Runtime (Minutes)\")\n",
    "ax.set_title(\"Scatter Plot - Average Rating and Runtime\")\n",
    ";"
   ]
  },
  {
   "cell_type": "markdown",
   "metadata": {},
   "source": [
    "From the scatter plot above, there does not seem to be a linear or even exponential relationship between runtime and average rating. However, we do observe that majority of the movies, regardless of genr,e tend to be rated between 5 and 8 with a run time of roughly between 75 and 150 mins. Thus, we will try and fit a linear model to check if indeed our assumption is correct. Please note, there are a few outliers observed which we will keep for our analysis.\n",
    "\n",
    "## Fitting a linear regression model\n",
    "\n",
    "We will start by plotting the two variables in question i.e. average rating and runtime to check if they are normally distributed."
   ]
  },
  {
   "cell_type": "code",
   "execution_count": 43,
   "metadata": {},
   "outputs": [
    {
     "data": {
      "image/png": "[encoded data removed]",
      "text/plain": [
       "<Figure size 864x576 with 2 Axes>"
      ]
     },
     "metadata": {},
     "output_type": "display_data"
    }
   ],
   "source": [
    "#Side by side plots to check for mormality of the variables\n",
    "\n",
    "fig, ax = plt.subplots(nrows=1, ncols=2, figsize = (12,8))\n",
    "\n",
    "ax[0].hist(merged_movies_analysis_df[\"averagerating\"], bins = 30)\n",
    "#ax[0].tick_params(axis=\"x\", labelrotation= 90)\n",
    "ax[0].set_xlabel(\"Average rating\")\n",
    "ax[0].set_ylabel(\"Count\")\n",
    "ax[0].set_title(\"Distribution of average rating\")\n",
    "ax[1].hist(merged_movies_analysis_df[\"runtime_minutes\"])\n",
    "#ax[1].tick_params(axis=\"x\", labelrotation= 90)\n",
    "ax[1].set_xlabel(\"Runtime -minutes\")\n",
    "ax[1].set_ylabel(\"Count\")\n",
    "ax[1].set_title(\"Distribution of runtime\");"
   ]
  },
  {
   "cell_type": "markdown",
   "metadata": {},
   "source": [
    "Average rating looks to be slightly negatively skewed but it's close enough to pass for a normal distribution. Runtime on the other hand, does look normally distributed. Hence no transformation of the variables is needed. Thus, we'll fit a simple linear model with runtime being the independent variable and average rating being the dependent variable."
   ]
  },
  {
   "cell_type": "code",
   "execution_count": 44,
   "metadata": {},
   "outputs": [
    {
     "name": "stdout",
     "output_type": "stream",
     "text": [
      "                            OLS Regression Results                            \n",
      "==============================================================================\n",
      "Dep. Variable:          averagerating   R-squared:                       0.104\n",
      "Model:                            OLS   Adj. R-squared:                  0.103\n",
      "Method:                 Least Squares   F-statistic:                     146.1\n",
      "Date:                Wed, 30 Oct 2024   Prob (F-statistic):           6.70e-32\n",
      "Time:                        15:02:29   Log-Likelihood:                -1790.8\n",
      "No. Observations:                1264   AIC:                             3586.\n",
      "Df Residuals:                    1262   BIC:                             3596.\n",
      "Df Model:                           1                                         \n",
      "Covariance Type:            nonrobust                                         \n",
      "===================================================================================\n",
      "                      coef    std err          t      P>|t|      [0.025      0.975]\n",
      "-----------------------------------------------------------------------------------\n",
      "const               4.5940      0.153     29.997      0.000       4.294       4.894\n",
      "runtime_minutes     0.0171      0.001     12.086      0.000       0.014       0.020\n",
      "==============================================================================\n",
      "Omnibus:                      129.645   Durbin-Watson:                   1.559\n",
      "Prob(Omnibus):                  0.000   Jarque-Bera (JB):              238.155\n",
      "Skew:                          -0.671   Prob(JB):                     1.93e-52\n",
      "Kurtosis:                       4.650   Cond. No.                         592.\n",
      "==============================================================================\n",
      "\n",
      "Notes:\n",
      "[1] Standard Errors assume that the covariance matrix of the errors is correctly specified.\n"
     ]
    }
   ],
   "source": [
    "X = merged_movies_analysis_df[\"runtime_minutes\"]\n",
    "y = merged_movies_analysis_df[\"averagerating\"]\n",
    "\n",
    "model = sm.OLS(endog =y, exog =sm.add_constant(X))\n",
    "results = model.fit()\n",
    "print(results.summary())"
   ]
  },
  {
   "cell_type": "markdown",
   "metadata": {},
   "source": [
    "Overall the model and coefficients are statistically significant, with all p-values well below a standard alpha of 0.05. The R-squared value is about 0.104 i.e. 10.4% of the variance in the average rating can be explained by run time. The intercept is about 4.6, meaning that for a movie with run time of 0 mins, we would expect a rating of at least 4.6 i.e. a  movie is guaranteed at least 4.6 without being watched. The runtime coeeficient  is about 0.02, meaning that for each additional minute spent watching the movie, we would expect an increase in rating by 0.02. \n",
    "\n"
   ]
  },
  {
   "cell_type": "markdown",
   "metadata": {},
   "source": [
    "## 2. Evaluate the impact of release date on genre ratings to identify trends and pinpoint which genres consistently receive high ratings over time."
   ]
  },
  {
   "cell_type": "markdown",
   "metadata": {},
   "source": [
    "### 2.1 Effect of release month on ratings for all movies"
   ]
  },
  {
   "cell_type": "markdown",
   "metadata": {},
   "source": [
    "To get the impact of the release date particularly in relation to the time of the year, we shall continue to use the 'merged_movies_analysis_df' dataframe which we shall rename to release_date_df"
   ]
  },
  {
   "cell_type": "code",
   "execution_count": 45,
   "metadata": {},
   "outputs": [
    {
     "data": {
      "text/html": [
       "<div>\n",
       "<style scoped>\n",
       "    .dataframe tbody tr th:only-of-type {\n",
       "        vertical-align: middle;\n",
       "    }\n",
       "\n",
       "    .dataframe tbody tr th {\n",
       "        vertical-align: top;\n",
       "    }\n",
       "\n",
       "    .dataframe thead th {\n",
       "        text-align: right;\n",
       "    }\n",
       "</style>\n",
       "<table border=\"1\" class=\"dataframe\">\n",
       "  <thead>\n",
       "    <tr style=\"text-align: right;\">\n",
       "      <th></th>\n",
       "      <th>Movie_title</th>\n",
       "      <th>studio</th>\n",
       "      <th>domestic_gross_x</th>\n",
       "      <th>foreign_gross</th>\n",
       "      <th>year</th>\n",
       "      <th>start_year</th>\n",
       "      <th>runtime_minutes</th>\n",
       "      <th>genres</th>\n",
       "      <th>averagerating</th>\n",
       "      <th>numvotes</th>\n",
       "      <th>primary_name</th>\n",
       "      <th>primary_profession</th>\n",
       "      <th>id</th>\n",
       "      <th>release_date</th>\n",
       "      <th>production_budget</th>\n",
       "      <th>domestic_gross_y</th>\n",
       "      <th>worldwide_gross</th>\n",
       "      <th>modified_genres</th>\n",
       "    </tr>\n",
       "  </thead>\n",
       "  <tbody>\n",
       "    <tr>\n",
       "      <th>0</th>\n",
       "      <td>Toy Story 3</td>\n",
       "      <td>BV</td>\n",
       "      <td>415000000.0</td>\n",
       "      <td>652000000</td>\n",
       "      <td>2010</td>\n",
       "      <td>2010.0</td>\n",
       "      <td>103.0</td>\n",
       "      <td>Adventure,Animation,Comedy</td>\n",
       "      <td>8.3</td>\n",
       "      <td>682218.0</td>\n",
       "      <td>Lee Unkrich</td>\n",
       "      <td>editorial_department,editor,miscellaneous</td>\n",
       "      <td>47.0</td>\n",
       "      <td>Jun 18, 2010</td>\n",
       "      <td>$200,000,000</td>\n",
       "      <td>$415,004,880</td>\n",
       "      <td>$1,068,879,522</td>\n",
       "      <td>Adventure</td>\n",
       "    </tr>\n",
       "    <tr>\n",
       "      <th>3</th>\n",
       "      <td>Inception</td>\n",
       "      <td>WB</td>\n",
       "      <td>292600000.0</td>\n",
       "      <td>535700000</td>\n",
       "      <td>2010</td>\n",
       "      <td>2010.0</td>\n",
       "      <td>148.0</td>\n",
       "      <td>Action,Adventure,Sci-Fi</td>\n",
       "      <td>8.8</td>\n",
       "      <td>1841066.0</td>\n",
       "      <td>Christopher Nolan</td>\n",
       "      <td>writer,producer,director</td>\n",
       "      <td>38.0</td>\n",
       "      <td>Jul 16, 2010</td>\n",
       "      <td>$160,000,000</td>\n",
       "      <td>$292,576,195</td>\n",
       "      <td>$835,524,642</td>\n",
       "      <td>Action</td>\n",
       "    </tr>\n",
       "    <tr>\n",
       "      <th>4</th>\n",
       "      <td>Shrek Forever After</td>\n",
       "      <td>P/DW</td>\n",
       "      <td>238700000.0</td>\n",
       "      <td>513900000</td>\n",
       "      <td>2010</td>\n",
       "      <td>2010.0</td>\n",
       "      <td>93.0</td>\n",
       "      <td>Adventure,Animation,Comedy</td>\n",
       "      <td>6.3</td>\n",
       "      <td>167532.0</td>\n",
       "      <td>Mike Mitchell</td>\n",
       "      <td>actor,director,writer</td>\n",
       "      <td>27.0</td>\n",
       "      <td>May 21, 2010</td>\n",
       "      <td>$165,000,000</td>\n",
       "      <td>$238,736,787</td>\n",
       "      <td>$756,244,673</td>\n",
       "      <td>Adventure</td>\n",
       "    </tr>\n",
       "    <tr>\n",
       "      <th>5</th>\n",
       "      <td>The Twilight Saga: Eclipse</td>\n",
       "      <td>Sum.</td>\n",
       "      <td>300500000.0</td>\n",
       "      <td>398000000</td>\n",
       "      <td>2010</td>\n",
       "      <td>2010.0</td>\n",
       "      <td>124.0</td>\n",
       "      <td>Adventure,Drama,Fantasy</td>\n",
       "      <td>5.0</td>\n",
       "      <td>211733.0</td>\n",
       "      <td>David Slade</td>\n",
       "      <td>producer,director,writer</td>\n",
       "      <td>53.0</td>\n",
       "      <td>Jun 30, 2010</td>\n",
       "      <td>$68,000,000</td>\n",
       "      <td>$300,531,751</td>\n",
       "      <td>$706,102,828</td>\n",
       "      <td>Adventure</td>\n",
       "    </tr>\n",
       "    <tr>\n",
       "      <th>6</th>\n",
       "      <td>Iron Man 2</td>\n",
       "      <td>Par.</td>\n",
       "      <td>312400000.0</td>\n",
       "      <td>311500000</td>\n",
       "      <td>2010</td>\n",
       "      <td>2010.0</td>\n",
       "      <td>124.0</td>\n",
       "      <td>Action,Adventure,Sci-Fi</td>\n",
       "      <td>7.0</td>\n",
       "      <td>657690.0</td>\n",
       "      <td>Jon Favreau</td>\n",
       "      <td>producer,actor,miscellaneous</td>\n",
       "      <td>15.0</td>\n",
       "      <td>May 7, 2010</td>\n",
       "      <td>$170,000,000</td>\n",
       "      <td>$312,433,331</td>\n",
       "      <td>$621,156,389</td>\n",
       "      <td>Action</td>\n",
       "    </tr>\n",
       "  </tbody>\n",
       "</table>\n",
       "</div>"
      ],
      "text/plain": [
       "                  Movie_title studio  domestic_gross_x foreign_gross  year  \\\n",
       "0                 Toy Story 3     BV       415000000.0     652000000  2010   \n",
       "3                   Inception     WB       292600000.0     535700000  2010   \n",
       "4         Shrek Forever After   P/DW       238700000.0     513900000  2010   \n",
       "5  The Twilight Saga: Eclipse   Sum.       300500000.0     398000000  2010   \n",
       "6                  Iron Man 2   Par.       312400000.0     311500000  2010   \n",
       "\n",
       "   start_year  runtime_minutes                      genres  averagerating  \\\n",
       "0      2010.0            103.0  Adventure,Animation,Comedy            8.3   \n",
       "3      2010.0            148.0     Action,Adventure,Sci-Fi            8.8   \n",
       "4      2010.0             93.0  Adventure,Animation,Comedy            6.3   \n",
       "5      2010.0            124.0     Adventure,Drama,Fantasy            5.0   \n",
       "6      2010.0            124.0     Action,Adventure,Sci-Fi            7.0   \n",
       "\n",
       "    numvotes       primary_name                         primary_profession  \\\n",
       "0   682218.0        Lee Unkrich  editorial_department,editor,miscellaneous   \n",
       "3  1841066.0  Christopher Nolan                   writer,producer,director   \n",
       "4   167532.0      Mike Mitchell                      actor,director,writer   \n",
       "5   211733.0        David Slade                   producer,director,writer   \n",
       "6   657690.0        Jon Favreau               producer,actor,miscellaneous   \n",
       "\n",
       "     id  release_date production_budget domestic_gross_y worldwide_gross  \\\n",
       "0  47.0  Jun 18, 2010      $200,000,000     $415,004,880  $1,068,879,522   \n",
       "3  38.0  Jul 16, 2010      $160,000,000     $292,576,195    $835,524,642   \n",
       "4  27.0  May 21, 2010      $165,000,000     $238,736,787    $756,244,673   \n",
       "5  53.0  Jun 30, 2010       $68,000,000     $300,531,751    $706,102,828   \n",
       "6  15.0   May 7, 2010      $170,000,000     $312,433,331    $621,156,389   \n",
       "\n",
       "  modified_genres  \n",
       "0       Adventure  \n",
       "3          Action  \n",
       "4       Adventure  \n",
       "5       Adventure  \n",
       "6          Action  "
      ]
     },
     "execution_count": 45,
     "metadata": {},
     "output_type": "execute_result"
    }
   ],
   "source": [
    "release_date_df = merged_movies_analysis_df\n",
    "release_date_df.head()"
   ]
  },
  {
   "cell_type": "markdown",
   "metadata": {},
   "source": [
    "For purposes of getting the time of the year in which a certain movie was released, we shall only grab the month date from the year of release of a movie.\n",
    "\n",
    "Extract month from release date by converting it to datetime object."
   ]
  },
  {
   "cell_type": "code",
   "execution_count": 46,
   "metadata": {},
   "outputs": [],
   "source": [
    "# Extract the month from release_date\n",
    "release_date_df['release_date'] = pd.to_datetime(release_date_df['release_date'], errors='coerce')\n",
    "release_date_df['release_month'] = release_date_df['release_date'].dt.month"
   ]
  },
  {
   "cell_type": "markdown",
   "metadata": {},
   "source": [
    "Now, calculate the average rating for all the movies according to the month that it was released."
   ]
  },
  {
   "cell_type": "code",
   "execution_count": 47,
   "metadata": {},
   "outputs": [],
   "source": [
    "# Calculate average rating per release month\n",
    "average_rating_per_month = release_date_df.groupby('release_month')['averagerating'].mean()"
   ]
  },
  {
   "cell_type": "markdown",
   "metadata": {},
   "source": [
    "Now plot the graph that shows the impact of release month on the movie ratings."
   ]
  },
  {
   "cell_type": "code",
   "execution_count": 48,
   "metadata": {},
   "outputs": [
    {
     "data": {
      "image/png": "[encoded data removed]",
      "text/plain": [
       "<Figure size 720x432 with 1 Axes>"
      ]
     },
     "metadata": {},
     "output_type": "display_data"
    }
   ],
   "source": [
    "# Plotting the bar graph\n",
    "plt.figure(figsize=(10, 6))\n",
    "average_rating_per_month.plot(kind='bar', color='coral')\n",
    "plt.title('Impact of Release Month on Movie Ratings')\n",
    "plt.xlabel('Release Month')\n",
    "plt.ylabel('Average Rating')\n",
    "plt.xticks(ticks=range(12), labels=['Jan', 'Feb', 'Mar', 'Apr', 'May', 'Jun', 'Jul', 'Aug', 'Sep', 'Oct', 'Nov', 'Dec'], rotation=90)\n",
    "plt.grid(axis='y', linestyle='--', alpha=0.7)\n",
    "plt.tight_layout()\n",
    "plt.show()\n"
   ]
  },
  {
   "cell_type": "markdown",
   "metadata": {},
   "source": [
    "From the findings, it is clear that January is the month where the ratings across all movies irrespective of the movie type is the lowest."
   ]
  },
  {
   "cell_type": "markdown",
   "metadata": {},
   "source": [
    "### 2.2 Effect of release month on ratings based on genre of a movie"
   ]
  },
  {
   "cell_type": "markdown",
   "metadata": {},
   "source": [
    "We now want to do a deep dive and look at the impact of release month on the rating of a movie based on the genre that it falls into.\n",
    "\n",
    "We will start by calculating the average rating per genre based on the month of the year."
   ]
  },
  {
   "cell_type": "code",
   "execution_count": 49,
   "metadata": {},
   "outputs": [],
   "source": [
    "# Calculate average rating per genre and month\n",
    "monthly_genre_rating = release_date_df.groupby(['release_month', 'modified_genres'])['averagerating'].mean().reset_index()"
   ]
  },
  {
   "cell_type": "markdown",
   "metadata": {},
   "source": [
    "Next, we go ahead to plot the graph to show the ratings across different genres."
   ]
  },
  {
   "cell_type": "code",
   "execution_count": 50,
   "metadata": {},
   "outputs": [
    {
     "data": {
      "image/png": "[encoded data removed]",
      "text/plain": [
       "<Figure size 1008x576 with 1 Axes>"
      ]
     },
     "metadata": {},
     "output_type": "display_data"
    }
   ],
   "source": [
    "# Create a custom color palette\n",
    "custom_palette = sns.color_palette([\"#FF0000\", \"#8B0000\", \"#FF1493\", \"#DB7093\", \"#FFFF00\", \"#BDB76B\", \"#9932CC\", \"#FF00FF\", \"#00FF00\", \"#228B22\", \"#00FFFF\", \"#0000FF\", \"#BC8F8F\", \"#000000\", \"#FFDAB9\"]\n",
    ")\n",
    "\n",
    "# Set up the plot\n",
    "plt.figure(figsize=(14, 8))\n",
    "sns.lineplot(data=monthly_genre_rating, x='release_month', y='averagerating', hue='modified_genres', palette= custom_palette)\n",
    "\n",
    "# Customize the plot\n",
    "plt.title('Impact of Release Month on Average Ratings per Genre')\n",
    "plt.xlabel('Release Month')\n",
    "plt.ylabel('Average Rating')\n",
    "plt.xticks(range(1, 13), \n",
    "           ['Jan', 'Feb', 'Mar', 'Apr', 'May', 'Jun', 'Jul', 'Aug', 'Sep', 'Oct', 'Nov', 'Dec'])\n",
    "plt.legend(title='Genre', bbox_to_anchor=(1.05, 1), loc='upper left')\n",
    "plt.grid(True)\n",
    "\n",
    "plt.show()"
   ]
  },
  {
   "cell_type": "markdown",
   "metadata": {},
   "source": [
    "From the visualization above, it is clear that Adventure, Action, Drama and Animation movies maintain somewhat the same average ratings throughout the year. However, Documentaries do not get a good rating when released around February and March. On the other hand, Thriller moves garner very high ratings when released in April and very low ratings when released in October."
   ]
  },
  {
   "cell_type": "code",
   "execution_count": null,
   "metadata": {},
   "outputs": [],
   "source": []
  }
 ],
 "metadata": {
  "kernelspec": {
   "display_name": "Python 3",
   "language": "python",
   "name": "python3"
  },
  "language_info": {
   "codemirror_mode": {
    "name": "ipython",
    "version": 3
   },
   "file_extension": ".py",
   "mimetype": "text/x-python",
   "name": "python",
   "nbconvert_exporter": "python",
   "pygments_lexer": "ipython3",
   "version": "3.8.5"
  }
 },
 "nbformat": 4,
 "nbformat_minor": 4
}
